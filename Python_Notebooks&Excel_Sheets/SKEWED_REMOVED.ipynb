{
 "cells": [
  {
   "cell_type": "code",
   "execution_count": 1,
   "metadata": {
    "colab": {},
    "colab_type": "code",
    "id": "o3OLRBp9yKLL"
   },
   "outputs": [],
   "source": [
    "import numpy as np\n",
    "import pandas as pd"
   ]
  },
  {
   "cell_type": "code",
   "execution_count": 2,
   "metadata": {
    "colab": {},
    "colab_type": "code",
    "id": "xXarO_myyQtE"
   },
   "outputs": [],
   "source": [
    "df_faf2012=pd.read_csv(\"faf35_provisional_2012_state.csv\")"
   ]
  },
  {
   "cell_type": "code",
   "execution_count": 3,
   "metadata": {
    "colab": {},
    "colab_type": "code",
    "id": "3XtLM5Z40iwA"
   },
   "outputs": [],
   "source": [
    "df_faf2012=df_faf2012[df_faf2012['value_2012']!=0]"
   ]
  },
  {
   "cell_type": "code",
   "execution_count": 4,
   "metadata": {
    "colab": {},
    "colab_type": "code",
    "id": "FvVW_2ZP1FF1"
   },
   "outputs": [],
   "source": [
    "df_faf2012=df_faf2012.fillna(0)"
   ]
  },
  {
   "cell_type": "code",
   "execution_count": 5,
   "metadata": {
    "colab": {},
    "colab_type": "code",
    "id": "CRfDKNsV1Y2G"
   },
   "outputs": [],
   "source": [
    "df_faf2012_F=df_faf2012.iloc[:,0:9]"
   ]
  },
  {
   "cell_type": "code",
   "execution_count": 6,
   "metadata": {
    "colab": {},
    "colab_type": "code",
    "id": "8KzSETIk1MAW"
   },
   "outputs": [],
   "source": [
    "df_faf2012_Transform=df_faf2012[[\"value_2012\",\"tons_2012\",\"tmiles_2012\"]]"
   ]
  },
  {
   "cell_type": "code",
   "execution_count": 7,
   "metadata": {
    "colab": {},
    "colab_type": "code",
    "id": "TfBZ7R7g1PWm"
   },
   "outputs": [],
   "source": [
    "df_faf2012_Transform=df_faf2012_Transform.transform(func = ['sqrt'])"
   ]
  },
  {
   "cell_type": "code",
   "execution_count": 8,
   "metadata": {
    "colab": {},
    "colab_type": "code",
    "id": "u63D0Bfu1Rvy"
   },
   "outputs": [],
   "source": [
    "df_faf2012_Transform=pd.concat([df_faf2012_F,df_faf2012_Transform],axis=1)"
   ]
  },
  {
   "cell_type": "code",
   "execution_count": 9,
   "metadata": {
    "colab": {
     "base_uri": "https://localhost:8080/",
     "height": 438
    },
    "colab_type": "code",
    "id": "7f0LeROV1UBV",
    "outputId": "34bf45c9-635f-4321-ace9-b87ca09b0a8e"
   },
   "outputs": [
    {
     "data": {
      "text/html": [
       "<div>\n",
       "<style scoped>\n",
       "    .dataframe tbody tr th:only-of-type {\n",
       "        vertical-align: middle;\n",
       "    }\n",
       "\n",
       "    .dataframe tbody tr th {\n",
       "        vertical-align: top;\n",
       "    }\n",
       "\n",
       "    .dataframe thead th {\n",
       "        text-align: right;\n",
       "    }\n",
       "</style>\n",
       "<table border=\"1\" class=\"dataframe\">\n",
       "  <thead>\n",
       "    <tr style=\"text-align: right;\">\n",
       "      <th></th>\n",
       "      <th>fr_orig</th>\n",
       "      <th>dms_origst</th>\n",
       "      <th>dms_destst</th>\n",
       "      <th>fr_dest</th>\n",
       "      <th>fr_inmode</th>\n",
       "      <th>dms_mode</th>\n",
       "      <th>fr_outmode</th>\n",
       "      <th>sctg2</th>\n",
       "      <th>trade_type</th>\n",
       "      <th>(value_2012, sqrt)</th>\n",
       "      <th>(tons_2012, sqrt)</th>\n",
       "      <th>(tmiles_2012, sqrt)</th>\n",
       "    </tr>\n",
       "  </thead>\n",
       "  <tbody>\n",
       "    <tr>\n",
       "      <td>0</td>\n",
       "      <td>0.0</td>\n",
       "      <td>1</td>\n",
       "      <td>1</td>\n",
       "      <td>0.0</td>\n",
       "      <td>0.0</td>\n",
       "      <td>1</td>\n",
       "      <td>0.0</td>\n",
       "      <td>1</td>\n",
       "      <td>1</td>\n",
       "      <td>36.033584</td>\n",
       "      <td>34.729116</td>\n",
       "      <td>10.964678</td>\n",
       "    </tr>\n",
       "    <tr>\n",
       "      <td>1</td>\n",
       "      <td>0.0</td>\n",
       "      <td>1</td>\n",
       "      <td>1</td>\n",
       "      <td>0.0</td>\n",
       "      <td>0.0</td>\n",
       "      <td>1</td>\n",
       "      <td>0.0</td>\n",
       "      <td>2</td>\n",
       "      <td>1</td>\n",
       "      <td>22.043666</td>\n",
       "      <td>50.602931</td>\n",
       "      <td>15.485686</td>\n",
       "    </tr>\n",
       "    <tr>\n",
       "      <td>2</td>\n",
       "      <td>0.0</td>\n",
       "      <td>1</td>\n",
       "      <td>1</td>\n",
       "      <td>0.0</td>\n",
       "      <td>0.0</td>\n",
       "      <td>1</td>\n",
       "      <td>0.0</td>\n",
       "      <td>3</td>\n",
       "      <td>1</td>\n",
       "      <td>32.115590</td>\n",
       "      <td>52.907020</td>\n",
       "      <td>15.447254</td>\n",
       "    </tr>\n",
       "    <tr>\n",
       "      <td>3</td>\n",
       "      <td>0.0</td>\n",
       "      <td>1</td>\n",
       "      <td>1</td>\n",
       "      <td>0.0</td>\n",
       "      <td>0.0</td>\n",
       "      <td>1</td>\n",
       "      <td>0.0</td>\n",
       "      <td>4</td>\n",
       "      <td>1</td>\n",
       "      <td>27.444313</td>\n",
       "      <td>55.639712</td>\n",
       "      <td>16.641353</td>\n",
       "    </tr>\n",
       "    <tr>\n",
       "      <td>4</td>\n",
       "      <td>0.0</td>\n",
       "      <td>1</td>\n",
       "      <td>1</td>\n",
       "      <td>0.0</td>\n",
       "      <td>0.0</td>\n",
       "      <td>1</td>\n",
       "      <td>0.0</td>\n",
       "      <td>5</td>\n",
       "      <td>1</td>\n",
       "      <td>46.159158</td>\n",
       "      <td>30.195124</td>\n",
       "      <td>8.189547</td>\n",
       "    </tr>\n",
       "    <tr>\n",
       "      <td>...</td>\n",
       "      <td>...</td>\n",
       "      <td>...</td>\n",
       "      <td>...</td>\n",
       "      <td>...</td>\n",
       "      <td>...</td>\n",
       "      <td>...</td>\n",
       "      <td>...</td>\n",
       "      <td>...</td>\n",
       "      <td>...</td>\n",
       "      <td>...</td>\n",
       "      <td>...</td>\n",
       "      <td>...</td>\n",
       "    </tr>\n",
       "    <tr>\n",
       "      <td>549127</td>\n",
       "      <td>808.0</td>\n",
       "      <td>53</td>\n",
       "      <td>56</td>\n",
       "      <td>0.0</td>\n",
       "      <td>5.0</td>\n",
       "      <td>1</td>\n",
       "      <td>0.0</td>\n",
       "      <td>26</td>\n",
       "      <td>2</td>\n",
       "      <td>0.044721</td>\n",
       "      <td>0.020000</td>\n",
       "      <td>0.019901</td>\n",
       "    </tr>\n",
       "    <tr>\n",
       "      <td>549128</td>\n",
       "      <td>808.0</td>\n",
       "      <td>53</td>\n",
       "      <td>56</td>\n",
       "      <td>0.0</td>\n",
       "      <td>5.0</td>\n",
       "      <td>1</td>\n",
       "      <td>0.0</td>\n",
       "      <td>30</td>\n",
       "      <td>2</td>\n",
       "      <td>0.050000</td>\n",
       "      <td>0.010000</td>\n",
       "      <td>0.009940</td>\n",
       "    </tr>\n",
       "    <tr>\n",
       "      <td>549129</td>\n",
       "      <td>808.0</td>\n",
       "      <td>53</td>\n",
       "      <td>56</td>\n",
       "      <td>0.0</td>\n",
       "      <td>5.0</td>\n",
       "      <td>1</td>\n",
       "      <td>0.0</td>\n",
       "      <td>33</td>\n",
       "      <td>2</td>\n",
       "      <td>0.063246</td>\n",
       "      <td>0.043589</td>\n",
       "      <td>0.043388</td>\n",
       "    </tr>\n",
       "    <tr>\n",
       "      <td>549130</td>\n",
       "      <td>808.0</td>\n",
       "      <td>53</td>\n",
       "      <td>56</td>\n",
       "      <td>0.0</td>\n",
       "      <td>5.0</td>\n",
       "      <td>1</td>\n",
       "      <td>0.0</td>\n",
       "      <td>34</td>\n",
       "      <td>2</td>\n",
       "      <td>0.432319</td>\n",
       "      <td>0.186279</td>\n",
       "      <td>0.183264</td>\n",
       "    </tr>\n",
       "    <tr>\n",
       "      <td>549131</td>\n",
       "      <td>808.0</td>\n",
       "      <td>53</td>\n",
       "      <td>56</td>\n",
       "      <td>0.0</td>\n",
       "      <td>5.0</td>\n",
       "      <td>1</td>\n",
       "      <td>0.0</td>\n",
       "      <td>39</td>\n",
       "      <td>2</td>\n",
       "      <td>0.045826</td>\n",
       "      <td>0.036056</td>\n",
       "      <td>0.035888</td>\n",
       "    </tr>\n",
       "  </tbody>\n",
       "</table>\n",
       "<p>501231 rows × 12 columns</p>\n",
       "</div>"
      ],
      "text/plain": [
       "        fr_orig  dms_origst  dms_destst  fr_dest  fr_inmode  dms_mode  \\\n",
       "0           0.0           1           1      0.0        0.0         1   \n",
       "1           0.0           1           1      0.0        0.0         1   \n",
       "2           0.0           1           1      0.0        0.0         1   \n",
       "3           0.0           1           1      0.0        0.0         1   \n",
       "4           0.0           1           1      0.0        0.0         1   \n",
       "...         ...         ...         ...      ...        ...       ...   \n",
       "549127    808.0          53          56      0.0        5.0         1   \n",
       "549128    808.0          53          56      0.0        5.0         1   \n",
       "549129    808.0          53          56      0.0        5.0         1   \n",
       "549130    808.0          53          56      0.0        5.0         1   \n",
       "549131    808.0          53          56      0.0        5.0         1   \n",
       "\n",
       "        fr_outmode  sctg2  trade_type  (value_2012, sqrt)  (tons_2012, sqrt)  \\\n",
       "0              0.0      1           1           36.033584          34.729116   \n",
       "1              0.0      2           1           22.043666          50.602931   \n",
       "2              0.0      3           1           32.115590          52.907020   \n",
       "3              0.0      4           1           27.444313          55.639712   \n",
       "4              0.0      5           1           46.159158          30.195124   \n",
       "...            ...    ...         ...                 ...                ...   \n",
       "549127         0.0     26           2            0.044721           0.020000   \n",
       "549128         0.0     30           2            0.050000           0.010000   \n",
       "549129         0.0     33           2            0.063246           0.043589   \n",
       "549130         0.0     34           2            0.432319           0.186279   \n",
       "549131         0.0     39           2            0.045826           0.036056   \n",
       "\n",
       "        (tmiles_2012, sqrt)  \n",
       "0                 10.964678  \n",
       "1                 15.485686  \n",
       "2                 15.447254  \n",
       "3                 16.641353  \n",
       "4                  8.189547  \n",
       "...                     ...  \n",
       "549127             0.019901  \n",
       "549128             0.009940  \n",
       "549129             0.043388  \n",
       "549130             0.183264  \n",
       "549131             0.035888  \n",
       "\n",
       "[501231 rows x 12 columns]"
      ]
     },
     "execution_count": 9,
     "metadata": {},
     "output_type": "execute_result"
    }
   ],
   "source": [
    "df_faf2012_Transform"
   ]
  },
  {
   "cell_type": "code",
   "execution_count": 10,
   "metadata": {
    "colab": {},
    "colab_type": "code",
    "id": "m4l37qeF19CO"
   },
   "outputs": [],
   "source": [
    "df_faf2012_Transform=df_faf2012_Transform.rename(columns={('value_2012', 'sqrt'): \"value_2012_sqrt\",('tons_2012', 'sqrt'):\"Tons_2012_sqrt\",('tmiles_2012', 'sqrt'):\"tmiles_2012_sqrt\"})\n",
    "import seaborn as sns"
   ]
  },
  {
   "cell_type": "code",
   "execution_count": 11,
   "metadata": {
    "colab": {
     "base_uri": "https://localhost:8080/",
     "height": 297
    },
    "colab_type": "code",
    "id": "Pa75gJhG1hD0",
    "outputId": "079413af-5523-4274-ecfd-5b173aa703f1"
   },
   "outputs": [
    {
     "data": {
      "text/plain": [
       "<matplotlib.axes._subplots.AxesSubplot at 0x201ea1d6048>"
      ]
     },
     "execution_count": 11,
     "metadata": {},
     "output_type": "execute_result"
    },
    {
     "data": {
      "image/png": "[encoded data removed]",
      "text/plain": [
       "<Figure size 432x288 with 1 Axes>"
      ]
     },
     "metadata": {
      "needs_background": "light"
     },
     "output_type": "display_data"
    }
   ],
   "source": [
    "import seaborn  as sns\n",
    "sns.distplot(df_faf2012_Transform[\"value_2012_sqrt\"])"
   ]
  },
  {
   "cell_type": "code",
   "execution_count": 12,
   "metadata": {
    "colab": {},
    "colab_type": "code",
    "id": "sV6D15H_2IkQ"
   },
   "outputs": [],
   "source": [
    "Q1= df_faf2012_Transform['value_2012_sqrt'].quantile(0.25)\n",
    "Q3= df_faf2012_Transform['value_2012_sqrt'].quantile(0.75)\n",
    "IQR= Q3-Q1\n",
    "\n",
    "df_HIgher_SKEW=df_faf2012_Transform[df_faf2012_Transform['value_2012_sqrt']>(Q3+1.5*IQR)]"
   ]
  },
  {
   "cell_type": "code",
   "execution_count": 13,
   "metadata": {
    "colab": {},
    "colab_type": "code",
    "id": "Kg9YSa7815GI"
   },
   "outputs": [],
   "source": [
    "from statsmodels.stats.outliers_influence import variance_inflation_factor\n",
    "X = df_HIgher_SKEW.drop(\"value_2012_sqrt\",axis=1)\n",
    "y = df_HIgher_SKEW[\"value_2012_sqrt\"]\n",
    "VIF_Columns =pd.Series([variance_inflation_factor(X.values, i) \n",
    "               for i in range(X.shape[1])], \n",
    "              index=X.columns)"
   ]
  },
  {
   "cell_type": "code",
   "execution_count": 14,
   "metadata": {
    "colab": {
     "base_uri": "https://localhost:8080/",
     "height": 218
    },
    "colab_type": "code",
    "id": "QxsVUr722xeA",
    "outputId": "01ed0944-68f8-4643-e8cc-0f4bc60bcbd9"
   },
   "outputs": [
    {
     "data": {
      "text/plain": [
       "fr_orig             11.598889\n",
       "dms_origst           4.582285\n",
       "dms_destst           4.549022\n",
       "fr_dest             15.443760\n",
       "fr_inmode            8.224983\n",
       "dms_mode             2.735951\n",
       "fr_outmode           5.629442\n",
       "sctg2                6.811813\n",
       "trade_type          39.927037\n",
       "Tons_2012_sqrt       2.940657\n",
       "tmiles_2012_sqrt     3.442811\n",
       "dtype: float64"
      ]
     },
     "execution_count": 14,
     "metadata": {},
     "output_type": "execute_result"
    }
   ],
   "source": [
    "VIF_Columns"
   ]
  },
  {
   "cell_type": "code",
   "execution_count": 15,
   "metadata": {
    "colab": {},
    "colab_type": "code",
    "id": "rrS-BFIo39fa"
   },
   "outputs": [],
   "source": [
    "df_HIgher_SKEW=df_HIgher_SKEW.drop(\"trade_type\",axis=1)"
   ]
  },
  {
   "cell_type": "code",
   "execution_count": 16,
   "metadata": {
    "colab": {},
    "colab_type": "code",
    "id": "4JQmP49M4Ez6"
   },
   "outputs": [],
   "source": [
    "from statsmodels.stats.outliers_influence import variance_inflation_factor\n",
    "X = df_HIgher_SKEW.drop(\"value_2012_sqrt\",axis=1)\n",
    "y = df_HIgher_SKEW[\"value_2012_sqrt\"]\n",
    "VIF_Columns =pd.Series([variance_inflation_factor(X.values, i) \n",
    "               for i in range(X.shape[1])], \n",
    "              index=X.columns)"
   ]
  },
  {
   "cell_type": "code",
   "execution_count": 17,
   "metadata": {
    "colab": {
     "base_uri": "https://localhost:8080/",
     "height": 202
    },
    "colab_type": "code",
    "id": "sbzaFHwY4HIp",
    "outputId": "dc3459e4-0b9f-4719-d3ef-7cee7596754e"
   },
   "outputs": [
    {
     "data": {
      "text/plain": [
       "fr_orig             8.427003\n",
       "dms_origst          3.800807\n",
       "dms_destst          3.777579\n",
       "fr_dest             5.763633\n",
       "fr_inmode           8.222211\n",
       "dms_mode            2.469741\n",
       "fr_outmode          5.616763\n",
       "sctg2               4.270204\n",
       "Tons_2012_sqrt      2.939734\n",
       "tmiles_2012_sqrt    3.281619\n",
       "dtype: float64"
      ]
     },
     "execution_count": 17,
     "metadata": {},
     "output_type": "execute_result"
    }
   ],
   "source": [
    "VIF_Columns"
   ]
  },
  {
   "cell_type": "code",
   "execution_count": 18,
   "metadata": {
    "colab": {
     "base_uri": "https://localhost:8080/",
     "height": 297
    },
    "colab_type": "code",
    "id": "WIM7mtcv4ISG",
    "outputId": "5be14a63-7e05-47bc-a9f8-ed75e47bc296"
   },
   "outputs": [
    {
     "data": {
      "text/plain": [
       "<matplotlib.axes._subplots.AxesSubplot at 0x201e7b53eb8>"
      ]
     },
     "execution_count": 18,
     "metadata": {},
     "output_type": "execute_result"
    },
    {
     "data": {
      "image/png": "[encoded data removed]",
      "text/plain": [
       "<Figure size 432x288 with 1 Axes>"
      ]
     },
     "metadata": {
      "needs_background": "light"
     },
     "output_type": "display_data"
    }
   ],
   "source": [
    "sns.distplot(df_HIgher_SKEW[\"value_2012_sqrt\"])"
   ]
  },
  {
   "cell_type": "code",
   "execution_count": 19,
   "metadata": {
    "colab": {},
    "colab_type": "code",
    "id": "8zCSae1L5IiH"
   },
   "outputs": [],
   "source": [
    "X = df_HIgher_SKEW.drop([\"value_2012_sqrt\"],axis=1)\n",
    "y = df_HIgher_SKEW[\"value_2012_sqrt\"]\n",
    "from sklearn.ensemble import AdaBoostRegressor\n",
    "from sklearn.ensemble import RandomForestRegressor\n",
    "from sklearn import model_selection"
   ]
  },
  {
   "cell_type": "code",
   "execution_count": 20,
   "metadata": {
    "colab": {
     "base_uri": "https://localhost:8080/",
     "height": 370
    },
    "colab_type": "code",
    "id": "M1Q6qrH75RCN",
    "outputId": "e9671b51-f7c5-40a5-c43a-d2a36d658253"
   },
   "outputs": [],
   "source": [
    "values=[]\n",
    "reg_bias=[]\n",
    "reg_var=[]\n",
    "for val in np.arange(1,15):\n",
    "    regressor=RandomForestRegressor(n_estimators=val,random_state=0)\n",
    "    kfold=model_selection.KFold(n_splits=15,shuffle=True,random_state=5)\n",
    "    cv_results=model_selection.cross_val_score(regressor,X,y,scoring=\"r2\",cv=kfold)\n",
    "    reg_bias.append(1-np.mean(cv_results))\n",
    "    reg_var.append(np.std(cv_results,ddof=1))\n",
    "    values.append(val)\n",
    "    \n",
    "RF_bias=pd.DataFrame({\"Estimators\":values,\"B.E\":reg_bias})\n",
    "RF_var=pd.DataFrame({\"Estimators\":values,\"B.E\":reg_var})"
   ]
  },
  {
   "cell_type": "code",
   "execution_count": 0,
   "metadata": {
    "colab": {
     "base_uri": "https://localhost:8080/",
     "height": 462
    },
    "colab_type": "code",
    "id": "ViZGrpRK6Be_",
    "outputId": "c0e26940-9d7b-42b7-ea59-9d70ba80eaf5"
   },
   "outputs": [
    {
     "data": {
      "text/html": [
       "<div>\n",
       "<style scoped>\n",
       "    .dataframe tbody tr th:only-of-type {\n",
       "        vertical-align: middle;\n",
       "    }\n",
       "\n",
       "    .dataframe tbody tr th {\n",
       "        vertical-align: top;\n",
       "    }\n",
       "\n",
       "    .dataframe thead th {\n",
       "        text-align: right;\n",
       "    }\n",
       "</style>\n",
       "<table border=\"1\" class=\"dataframe\">\n",
       "  <thead>\n",
       "    <tr style=\"text-align: right;\">\n",
       "      <th></th>\n",
       "      <th>Estimators</th>\n",
       "      <th>B.E</th>\n",
       "    </tr>\n",
       "  </thead>\n",
       "  <tbody>\n",
       "    <tr>\n",
       "      <th>0</th>\n",
       "      <td>1</td>\n",
       "      <td>0.366096</td>\n",
       "    </tr>\n",
       "    <tr>\n",
       "      <th>1</th>\n",
       "      <td>2</td>\n",
       "      <td>0.263501</td>\n",
       "    </tr>\n",
       "    <tr>\n",
       "      <th>2</th>\n",
       "      <td>3</td>\n",
       "      <td>0.233195</td>\n",
       "    </tr>\n",
       "    <tr>\n",
       "      <th>3</th>\n",
       "      <td>4</td>\n",
       "      <td>0.216556</td>\n",
       "    </tr>\n",
       "    <tr>\n",
       "      <th>4</th>\n",
       "      <td>5</td>\n",
       "      <td>0.205857</td>\n",
       "    </tr>\n",
       "    <tr>\n",
       "      <th>5</th>\n",
       "      <td>6</td>\n",
       "      <td>0.199467</td>\n",
       "    </tr>\n",
       "    <tr>\n",
       "      <th>6</th>\n",
       "      <td>7</td>\n",
       "      <td>0.193930</td>\n",
       "    </tr>\n",
       "    <tr>\n",
       "      <th>7</th>\n",
       "      <td>8</td>\n",
       "      <td>0.190589</td>\n",
       "    </tr>\n",
       "    <tr>\n",
       "      <th>8</th>\n",
       "      <td>9</td>\n",
       "      <td>0.188338</td>\n",
       "    </tr>\n",
       "    <tr>\n",
       "      <th>9</th>\n",
       "      <td>10</td>\n",
       "      <td>0.186448</td>\n",
       "    </tr>\n",
       "    <tr>\n",
       "      <th>10</th>\n",
       "      <td>11</td>\n",
       "      <td>0.184930</td>\n",
       "    </tr>\n",
       "    <tr>\n",
       "      <th>11</th>\n",
       "      <td>12</td>\n",
       "      <td>0.183907</td>\n",
       "    </tr>\n",
       "    <tr>\n",
       "      <th>12</th>\n",
       "      <td>13</td>\n",
       "      <td>0.182970</td>\n",
       "    </tr>\n",
       "    <tr>\n",
       "      <th>13</th>\n",
       "      <td>14</td>\n",
       "      <td>0.181819</td>\n",
       "    </tr>\n",
       "  </tbody>\n",
       "</table>\n",
       "</div>"
      ],
      "text/plain": [
       "    Estimators       B.E\n",
       "0            1  0.366096\n",
       "1            2  0.263501\n",
       "2            3  0.233195\n",
       "3            4  0.216556\n",
       "4            5  0.205857\n",
       "5            6  0.199467\n",
       "6            7  0.193930\n",
       "7            8  0.190589\n",
       "8            9  0.188338\n",
       "9           10  0.186448\n",
       "10          11  0.184930\n",
       "11          12  0.183907\n",
       "12          13  0.182970\n",
       "13          14  0.181819"
      ]
     },
     "execution_count": 41,
     "metadata": {
      "tags": []
     },
     "output_type": "execute_result"
    }
   ],
   "source": [
    "RF_bias"
   ]
  },
  {
   "cell_type": "code",
   "execution_count": 0,
   "metadata": {
    "colab": {
     "base_uri": "https://localhost:8080/",
     "height": 77
    },
    "colab_type": "code",
    "id": "8wxxICDqB9qV",
    "outputId": "e9c0d7a5-823f-42d8-80d3-202d80c388c6"
   },
   "outputs": [
    {
     "data": {
      "text/html": [
       "<div>\n",
       "<style scoped>\n",
       "    .dataframe tbody tr th:only-of-type {\n",
       "        vertical-align: middle;\n",
       "    }\n",
       "\n",
       "    .dataframe tbody tr th {\n",
       "        vertical-align: top;\n",
       "    }\n",
       "\n",
       "    .dataframe thead th {\n",
       "        text-align: right;\n",
       "    }\n",
       "</style>\n",
       "<table border=\"1\" class=\"dataframe\">\n",
       "  <thead>\n",
       "    <tr style=\"text-align: right;\">\n",
       "      <th></th>\n",
       "      <th>Estimators</th>\n",
       "      <th>B.E</th>\n",
       "    </tr>\n",
       "  </thead>\n",
       "  <tbody>\n",
       "    <tr>\n",
       "      <th>13</th>\n",
       "      <td>14</td>\n",
       "      <td>0.181819</td>\n",
       "    </tr>\n",
       "  </tbody>\n",
       "</table>\n",
       "</div>"
      ],
      "text/plain": [
       "    Estimators       B.E\n",
       "13          14  0.181819"
      ]
     },
     "execution_count": 45,
     "metadata": {
      "tags": []
     },
     "output_type": "execute_result"
    }
   ],
   "source": [
    "RF_bias[RF_bias[\"B.E\"]==RF_bias[\"B.E\"].min()]"
   ]
  },
  {
   "cell_type": "code",
   "execution_count": 0,
   "metadata": {
    "colab": {
     "base_uri": "https://localhost:8080/",
     "height": 77
    },
    "colab_type": "code",
    "id": "OjgEFlO5BsI6",
    "outputId": "3c7233ce-6a60-4b92-bf85-5f6e3e5af65f"
   },
   "outputs": [
    {
     "data": {
      "text/html": [
       "<div>\n",
       "<style scoped>\n",
       "    .dataframe tbody tr th:only-of-type {\n",
       "        vertical-align: middle;\n",
       "    }\n",
       "\n",
       "    .dataframe tbody tr th {\n",
       "        vertical-align: top;\n",
       "    }\n",
       "\n",
       "    .dataframe thead th {\n",
       "        text-align: right;\n",
       "    }\n",
       "</style>\n",
       "<table border=\"1\" class=\"dataframe\">\n",
       "  <thead>\n",
       "    <tr style=\"text-align: right;\">\n",
       "      <th></th>\n",
       "      <th>Estimators</th>\n",
       "      <th>B.E</th>\n",
       "    </tr>\n",
       "  </thead>\n",
       "  <tbody>\n",
       "    <tr>\n",
       "      <th>9</th>\n",
       "      <td>10</td>\n",
       "      <td>0.024482</td>\n",
       "    </tr>\n",
       "  </tbody>\n",
       "</table>\n",
       "</div>"
      ],
      "text/plain": [
       "   Estimators       B.E\n",
       "9          10  0.024482"
      ]
     },
     "execution_count": 44,
     "metadata": {
      "tags": []
     },
     "output_type": "execute_result"
    }
   ],
   "source": [
    "RF_var[RF_var[\"B.E\"]==RF_var[\"B.E\"].min()]"
   ]
  },
  {
   "cell_type": "code",
   "execution_count": 0,
   "metadata": {
    "colab": {
     "base_uri": "https://localhost:8080/",
     "height": 34
    },
    "colab_type": "code",
    "id": "OhrO4qP8Buc9",
    "outputId": "44e22698-4dae-41b2-fbdc-3338f92d3ad5"
   },
   "outputs": [
    {
     "data": {
      "text/plain": [
       "0.818181"
      ]
     },
     "execution_count": 47,
     "metadata": {
      "tags": []
     },
     "output_type": "execute_result"
    }
   ],
   "source": [
    "1-0.181819"
   ]
  },
  {
   "cell_type": "code",
   "execution_count": null,
   "metadata": {
    "colab": {
     "base_uri": "https://localhost:8080/",
     "height": 370
    },
    "colab_type": "code",
    "id": "iEaYHTWmCPmc",
    "outputId": "ba0e491b-3666-4426-de08-e93f9785c1c0"
   },
   "outputs": [],
   "source": [
    "from sklearn.ensemble import AdaBoostRegressor\n",
    "X = df_HIgher_SKEW.drop([\"value_2012_sqrt\"],axis=1)\n",
    "y = df_HIgher_SKEW[\"value_2012_sqrt\"]     \n",
    "values=[]\n",
    "ADA_BIAS=[]\n",
    "ADA_VAR=[]\n",
    "for val in np.arange(1,101):\n",
    "    ADA=AdaBoostRegressor(base_estimator=regressor,n_estimators=val,random_state=0)\n",
    "    kfold=model_selection.KFold(n_splits=3,shuffle=True,random_state=5)\n",
    "    cv_results=model_selection.cross_val_score(ADA,X,y,scoring=\"r2\",cv=kfold)\n",
    "    ADA_BIAS.append(1-np.mean(cv_results))\n",
    "    ADA_VAR.append(np.std(cv_results,ddof=1))\n",
    "    values.append(val)\n",
    "    \n",
    "ADA_BOOST=pd.DataFrame({\"Estimators\":values,\"B.E\":ADA_BIAS,\"V.E\":ADA_VAR})"
   ]
  },
  {
   "cell_type": "code",
   "execution_count": null,
   "metadata": {
    "colab": {
     "base_uri": "https://localhost:8080/",
     "height": 162
    },
    "colab_type": "code",
    "id": "kMSKcA1BCZEf",
    "outputId": "3d2049a1-0309-4f88-d146-a8e5e0407216"
   },
   "outputs": [],
   "source": [
    "ADA_BOOST"
   ]
  },
  {
   "cell_type": "code",
   "execution_count": 0,
   "metadata": {
    "colab": {
     "base_uri": "https://localhost:8080/",
     "height": 422
    },
    "colab_type": "code",
    "id": "g1TjnlcdLeoD",
    "outputId": "7544af4c-9afb-447d-c6f2-d507073b512d"
   },
   "outputs": [
    {
     "data": {
      "text/html": [
       "<div>\n",
       "<style scoped>\n",
       "    .dataframe tbody tr th:only-of-type {\n",
       "        vertical-align: middle;\n",
       "    }\n",
       "\n",
       "    .dataframe tbody tr th {\n",
       "        vertical-align: top;\n",
       "    }\n",
       "\n",
       "    .dataframe thead th {\n",
       "        text-align: right;\n",
       "    }\n",
       "</style>\n",
       "<table border=\"1\" class=\"dataframe\">\n",
       "  <thead>\n",
       "    <tr style=\"text-align: right;\">\n",
       "      <th></th>\n",
       "      <th>fr_orig</th>\n",
       "      <th>dms_origst</th>\n",
       "      <th>dms_destst</th>\n",
       "      <th>fr_dest</th>\n",
       "      <th>fr_inmode</th>\n",
       "      <th>dms_mode</th>\n",
       "      <th>fr_outmode</th>\n",
       "      <th>sctg2</th>\n",
       "      <th>value_2012_sqrt</th>\n",
       "      <th>Tons_2012_sqrt</th>\n",
       "      <th>tmiles_2012_sqrt</th>\n",
       "    </tr>\n",
       "  </thead>\n",
       "  <tbody>\n",
       "    <tr>\n",
       "      <th>0</th>\n",
       "      <td>0.0</td>\n",
       "      <td>1</td>\n",
       "      <td>1</td>\n",
       "      <td>0.0</td>\n",
       "      <td>0.0</td>\n",
       "      <td>1</td>\n",
       "      <td>0.0</td>\n",
       "      <td>1</td>\n",
       "      <td>36.033584</td>\n",
       "      <td>34.729116</td>\n",
       "      <td>10.964678</td>\n",
       "    </tr>\n",
       "    <tr>\n",
       "      <th>1</th>\n",
       "      <td>0.0</td>\n",
       "      <td>1</td>\n",
       "      <td>1</td>\n",
       "      <td>0.0</td>\n",
       "      <td>0.0</td>\n",
       "      <td>1</td>\n",
       "      <td>0.0</td>\n",
       "      <td>2</td>\n",
       "      <td>22.043666</td>\n",
       "      <td>50.602931</td>\n",
       "      <td>15.485686</td>\n",
       "    </tr>\n",
       "    <tr>\n",
       "      <th>2</th>\n",
       "      <td>0.0</td>\n",
       "      <td>1</td>\n",
       "      <td>1</td>\n",
       "      <td>0.0</td>\n",
       "      <td>0.0</td>\n",
       "      <td>1</td>\n",
       "      <td>0.0</td>\n",
       "      <td>3</td>\n",
       "      <td>32.115590</td>\n",
       "      <td>52.907020</td>\n",
       "      <td>15.447254</td>\n",
       "    </tr>\n",
       "    <tr>\n",
       "      <th>3</th>\n",
       "      <td>0.0</td>\n",
       "      <td>1</td>\n",
       "      <td>1</td>\n",
       "      <td>0.0</td>\n",
       "      <td>0.0</td>\n",
       "      <td>1</td>\n",
       "      <td>0.0</td>\n",
       "      <td>4</td>\n",
       "      <td>27.444313</td>\n",
       "      <td>55.639712</td>\n",
       "      <td>16.641353</td>\n",
       "    </tr>\n",
       "    <tr>\n",
       "      <th>4</th>\n",
       "      <td>0.0</td>\n",
       "      <td>1</td>\n",
       "      <td>1</td>\n",
       "      <td>0.0</td>\n",
       "      <td>0.0</td>\n",
       "      <td>1</td>\n",
       "      <td>0.0</td>\n",
       "      <td>5</td>\n",
       "      <td>46.159158</td>\n",
       "      <td>30.195124</td>\n",
       "      <td>8.189547</td>\n",
       "    </tr>\n",
       "    <tr>\n",
       "      <th>...</th>\n",
       "      <td>...</td>\n",
       "      <td>...</td>\n",
       "      <td>...</td>\n",
       "      <td>...</td>\n",
       "      <td>...</td>\n",
       "      <td>...</td>\n",
       "      <td>...</td>\n",
       "      <td>...</td>\n",
       "      <td>...</td>\n",
       "      <td>...</td>\n",
       "      <td>...</td>\n",
       "    </tr>\n",
       "    <tr>\n",
       "      <th>548969</th>\n",
       "      <td>808.0</td>\n",
       "      <td>53</td>\n",
       "      <td>53</td>\n",
       "      <td>0.0</td>\n",
       "      <td>3.0</td>\n",
       "      <td>1</td>\n",
       "      <td>0.0</td>\n",
       "      <td>35</td>\n",
       "      <td>4.109063</td>\n",
       "      <td>1.202747</td>\n",
       "      <td>0.331902</td>\n",
       "    </tr>\n",
       "    <tr>\n",
       "      <th>548973</th>\n",
       "      <td>808.0</td>\n",
       "      <td>53</td>\n",
       "      <td>53</td>\n",
       "      <td>0.0</td>\n",
       "      <td>3.0</td>\n",
       "      <td>1</td>\n",
       "      <td>0.0</td>\n",
       "      <td>39</td>\n",
       "      <td>4.618820</td>\n",
       "      <td>3.218074</td>\n",
       "      <td>0.713378</td>\n",
       "    </tr>\n",
       "    <tr>\n",
       "      <th>548985</th>\n",
       "      <td>808.0</td>\n",
       "      <td>53</td>\n",
       "      <td>53</td>\n",
       "      <td>0.0</td>\n",
       "      <td>3.0</td>\n",
       "      <td>3</td>\n",
       "      <td>0.0</td>\n",
       "      <td>5</td>\n",
       "      <td>4.899469</td>\n",
       "      <td>3.299257</td>\n",
       "      <td>0.610072</td>\n",
       "    </tr>\n",
       "    <tr>\n",
       "      <th>549002</th>\n",
       "      <td>808.0</td>\n",
       "      <td>53</td>\n",
       "      <td>53</td>\n",
       "      <td>0.0</td>\n",
       "      <td>3.0</td>\n",
       "      <td>5</td>\n",
       "      <td>0.0</td>\n",
       "      <td>30</td>\n",
       "      <td>6.882717</td>\n",
       "      <td>2.524520</td>\n",
       "      <td>0.562010</td>\n",
       "    </tr>\n",
       "    <tr>\n",
       "      <th>549020</th>\n",
       "      <td>808.0</td>\n",
       "      <td>53</td>\n",
       "      <td>53</td>\n",
       "      <td>0.0</td>\n",
       "      <td>3.0</td>\n",
       "      <td>7</td>\n",
       "      <td>0.0</td>\n",
       "      <td>20</td>\n",
       "      <td>4.245433</td>\n",
       "      <td>15.210749</td>\n",
       "      <td>4.844739</td>\n",
       "    </tr>\n",
       "  </tbody>\n",
       "</table>\n",
       "<p>62629 rows × 11 columns</p>\n",
       "</div>"
      ],
      "text/plain": [
       "        fr_orig  dms_origst  ...  Tons_2012_sqrt  tmiles_2012_sqrt\n",
       "0           0.0           1  ...       34.729116         10.964678\n",
       "1           0.0           1  ...       50.602931         15.485686\n",
       "2           0.0           1  ...       52.907020         15.447254\n",
       "3           0.0           1  ...       55.639712         16.641353\n",
       "4           0.0           1  ...       30.195124          8.189547\n",
       "...         ...         ...  ...             ...               ...\n",
       "548969    808.0          53  ...        1.202747          0.331902\n",
       "548973    808.0          53  ...        3.218074          0.713378\n",
       "548985    808.0          53  ...        3.299257          0.610072\n",
       "549002    808.0          53  ...        2.524520          0.562010\n",
       "549020    808.0          53  ...       15.210749          4.844739\n",
       "\n",
       "[62629 rows x 11 columns]"
      ]
     },
     "execution_count": 72,
     "metadata": {
      "tags": []
     },
     "output_type": "execute_result"
    }
   ],
   "source": [
    "df_HIgher_SKEW"
   ]
  },
  {
   "cell_type": "code",
   "execution_count": 0,
   "metadata": {
    "colab": {},
    "colab_type": "code",
    "id": "SMIVv2KF6ZSf"
   },
   "outputs": [],
   "source": [
    "df_HIgher_SKEW[\"value_2012_sqrt\"]=df_HIgher_SKEW[\"value_2012_sqrt\"]**(2)"
   ]
  },
  {
   "cell_type": "code",
   "execution_count": 0,
   "metadata": {
    "colab": {
     "base_uri": "https://localhost:8080/",
     "height": 218
    },
    "colab_type": "code",
    "id": "6zgkNJxs6pKN",
    "outputId": "ed0920b7-785b-49f8-b3bc-a63fff657525"
   },
   "outputs": [
    {
     "data": {
      "text/plain": [
       "fr_orig              0.0000\n",
       "dms_origst           1.0000\n",
       "dms_destst           1.0000\n",
       "fr_dest              0.0000\n",
       "fr_inmode            0.0000\n",
       "dms_mode             1.0000\n",
       "fr_outmode           0.0000\n",
       "sctg2                1.0000\n",
       "value_2012_sqrt     15.8572\n",
       "Tons_2012_sqrt       0.0000\n",
       "tmiles_2012_sqrt     0.0000\n",
       "dtype: float64"
      ]
     },
     "execution_count": 75,
     "metadata": {
      "tags": []
     },
     "output_type": "execute_result"
    }
   ],
   "source": [
    "df_HIgher_SKEW.min()"
   ]
  },
  {
   "cell_type": "code",
   "execution_count": 0,
   "metadata": {
    "colab": {
     "base_uri": "https://localhost:8080/",
     "height": 218
    },
    "colab_type": "code",
    "id": "5TXhvSJw6qaC",
    "outputId": "fb75920f-7feb-4b9c-e8ae-3a7f07426461"
   },
   "outputs": [
    {
     "data": {
      "text/plain": [
       "fr_orig                808.000000\n",
       "dms_origst              56.000000\n",
       "dms_destst              56.000000\n",
       "fr_dest                808.000000\n",
       "fr_inmode                7.000000\n",
       "dms_mode                 8.000000\n",
       "fr_outmode               7.000000\n",
       "sctg2                   99.000000\n",
       "value_2012_sqrt     116190.009200\n",
       "Tons_2012_sqrt         441.843688\n",
       "tmiles_2012_sqrt       327.358186\n",
       "dtype: float64"
      ]
     },
     "execution_count": 76,
     "metadata": {
      "tags": []
     },
     "output_type": "execute_result"
    }
   ],
   "source": [
    "df_HIgher_SKEW.max()"
   ]
  },
  {
   "cell_type": "code",
   "execution_count": 0,
   "metadata": {
    "colab": {},
    "colab_type": "code",
    "id": "YUvwd3-16wQP"
   },
   "outputs": [],
   "source": []
  }
 ],
 "metadata": {
  "colab": {
   "name": "SKEWED REMOVED.ipynb",
   "provenance": []
  },
  "kernelspec": {
   "display_name": "Python 3",
   "language": "python",
   "name": "python3"
  },
  "language_info": {
   "codemirror_mode": {
    "name": "ipython",
    "version": 3
   },
   "file_extension": ".py",
   "mimetype": "text/x-python",
   "name": "python",
   "nbconvert_exporter": "python",
   "pygments_lexer": "ipython3",
   "version": "3.7.3"
  }
 },
 "nbformat": 4,
 "nbformat_minor": 1
}
