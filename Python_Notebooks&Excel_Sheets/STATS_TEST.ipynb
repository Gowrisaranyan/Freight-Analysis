{
 "cells": [
  {
   "cell_type": "code",
   "execution_count": 1,
   "metadata": {},
   "outputs": [],
   "source": [
    "import numpy as np\n",
    "import pandas as pd"
   ]
  },
  {
   "cell_type": "code",
   "execution_count": 2,
   "metadata": {},
   "outputs": [],
   "source": [
    "df_faf2012=pd.read_csv(\"faf35_provisional_2012_state.csv\")"
   ]
  },
  {
   "cell_type": "code",
   "execution_count": 3,
   "metadata": {},
   "outputs": [],
   "source": [
    "df_faf2012=df_faf2012[df_faf2012['value_2012']!=0]"
   ]
  },
  {
   "cell_type": "code",
   "execution_count": 4,
   "metadata": {},
   "outputs": [],
   "source": [
    "df_faf2012=df_faf2012.fillna(0)"
   ]
  },
  {
   "cell_type": "code",
   "execution_count": 5,
   "metadata": {},
   "outputs": [],
   "source": [
    "df_faf2012=df_faf2012.drop(\"curval_2012\",axis=1)"
   ]
  },
  {
   "cell_type": "code",
   "execution_count": 6,
   "metadata": {},
   "outputs": [],
   "source": [
    "df_faf2012[\"value_2012\"]=df_faf2012[\"value_2012\"]*(10**6)"
   ]
  },
  {
   "cell_type": "code",
   "execution_count": 7,
   "metadata": {},
   "outputs": [],
   "source": [
    "df_faf2012[\"tons_2012\"]=df_faf2012[\"tons_2012\"]*(10**3)"
   ]
  },
  {
   "cell_type": "code",
   "execution_count": 8,
   "metadata": {},
   "outputs": [],
   "source": [
    "df_faf2012[\"tmiles_2012\"]=df_faf2012[\"tmiles_2012\"]*(10**6)"
   ]
  },
  {
   "cell_type": "code",
   "execution_count": 9,
   "metadata": {},
   "outputs": [
    {
     "data": {
      "text/plain": [
       "Index(['fr_orig', 'dms_origst', 'dms_destst', 'fr_dest', 'fr_inmode',\n",
       "       'dms_mode', 'fr_outmode', 'sctg2', 'trade_type', 'value_2012',\n",
       "       'tons_2012', 'tmiles_2012'],\n",
       "      dtype='object')"
      ]
     },
     "execution_count": 9,
     "metadata": {},
     "output_type": "execute_result"
    }
   ],
   "source": [
    "df_faf2012.columns"
   ]
  },
  {
   "cell_type": "code",
   "execution_count": 73,
   "metadata": {},
   "outputs": [
    {
     "data": {
      "text/html": [
       "<div>\n",
       "<style scoped>\n",
       "    .dataframe tbody tr th:only-of-type {\n",
       "        vertical-align: middle;\n",
       "    }\n",
       "\n",
       "    .dataframe tbody tr th {\n",
       "        vertical-align: top;\n",
       "    }\n",
       "\n",
       "    .dataframe thead th {\n",
       "        text-align: right;\n",
       "    }\n",
       "</style>\n",
       "<table border=\"1\" class=\"dataframe\">\n",
       "  <thead>\n",
       "    <tr style=\"text-align: right;\">\n",
       "      <th></th>\n",
       "      <th>fr_orig</th>\n",
       "      <th>dms_origst</th>\n",
       "      <th>dms_destst</th>\n",
       "      <th>fr_dest</th>\n",
       "      <th>fr_inmode</th>\n",
       "      <th>dms_mode</th>\n",
       "      <th>fr_outmode</th>\n",
       "      <th>sctg2</th>\n",
       "      <th>trade_type</th>\n",
       "      <th>value_2012</th>\n",
       "      <th>tons_2012</th>\n",
       "      <th>tmiles_2012</th>\n",
       "    </tr>\n",
       "  </thead>\n",
       "  <tbody>\n",
       "    <tr>\n",
       "      <td>0</td>\n",
       "      <td>0.0</td>\n",
       "      <td>1</td>\n",
       "      <td>1</td>\n",
       "      <td>0.0</td>\n",
       "      <td>0.0</td>\n",
       "      <td>1</td>\n",
       "      <td>0.0</td>\n",
       "      <td>1</td>\n",
       "      <td>1</td>\n",
       "      <td>1.298419e+09</td>\n",
       "      <td>1206111.5</td>\n",
       "      <td>1.202242e+08</td>\n",
       "    </tr>\n",
       "    <tr>\n",
       "      <td>1</td>\n",
       "      <td>0.0</td>\n",
       "      <td>1</td>\n",
       "      <td>1</td>\n",
       "      <td>0.0</td>\n",
       "      <td>0.0</td>\n",
       "      <td>1</td>\n",
       "      <td>0.0</td>\n",
       "      <td>2</td>\n",
       "      <td>1</td>\n",
       "      <td>4.859232e+08</td>\n",
       "      <td>2560656.6</td>\n",
       "      <td>2.398065e+08</td>\n",
       "    </tr>\n",
       "    <tr>\n",
       "      <td>2</td>\n",
       "      <td>0.0</td>\n",
       "      <td>1</td>\n",
       "      <td>1</td>\n",
       "      <td>0.0</td>\n",
       "      <td>0.0</td>\n",
       "      <td>1</td>\n",
       "      <td>0.0</td>\n",
       "      <td>3</td>\n",
       "      <td>1</td>\n",
       "      <td>1.031411e+09</td>\n",
       "      <td>2799152.8</td>\n",
       "      <td>2.386177e+08</td>\n",
       "    </tr>\n",
       "    <tr>\n",
       "      <td>3</td>\n",
       "      <td>0.0</td>\n",
       "      <td>1</td>\n",
       "      <td>1</td>\n",
       "      <td>0.0</td>\n",
       "      <td>0.0</td>\n",
       "      <td>1</td>\n",
       "      <td>0.0</td>\n",
       "      <td>4</td>\n",
       "      <td>1</td>\n",
       "      <td>7.531903e+08</td>\n",
       "      <td>3095777.6</td>\n",
       "      <td>2.769346e+08</td>\n",
       "    </tr>\n",
       "    <tr>\n",
       "      <td>4</td>\n",
       "      <td>0.0</td>\n",
       "      <td>1</td>\n",
       "      <td>1</td>\n",
       "      <td>0.0</td>\n",
       "      <td>0.0</td>\n",
       "      <td>1</td>\n",
       "      <td>0.0</td>\n",
       "      <td>5</td>\n",
       "      <td>1</td>\n",
       "      <td>2.130668e+09</td>\n",
       "      <td>911745.5</td>\n",
       "      <td>6.706868e+07</td>\n",
       "    </tr>\n",
       "    <tr>\n",
       "      <td>...</td>\n",
       "      <td>...</td>\n",
       "      <td>...</td>\n",
       "      <td>...</td>\n",
       "      <td>...</td>\n",
       "      <td>...</td>\n",
       "      <td>...</td>\n",
       "      <td>...</td>\n",
       "      <td>...</td>\n",
       "      <td>...</td>\n",
       "      <td>...</td>\n",
       "      <td>...</td>\n",
       "      <td>...</td>\n",
       "    </tr>\n",
       "    <tr>\n",
       "      <td>549127</td>\n",
       "      <td>808.0</td>\n",
       "      <td>53</td>\n",
       "      <td>56</td>\n",
       "      <td>0.0</td>\n",
       "      <td>5.0</td>\n",
       "      <td>1</td>\n",
       "      <td>0.0</td>\n",
       "      <td>26</td>\n",
       "      <td>2</td>\n",
       "      <td>2.000000e+03</td>\n",
       "      <td>0.4</td>\n",
       "      <td>3.960600e+02</td>\n",
       "    </tr>\n",
       "    <tr>\n",
       "      <td>549128</td>\n",
       "      <td>808.0</td>\n",
       "      <td>53</td>\n",
       "      <td>56</td>\n",
       "      <td>0.0</td>\n",
       "      <td>5.0</td>\n",
       "      <td>1</td>\n",
       "      <td>0.0</td>\n",
       "      <td>30</td>\n",
       "      <td>2</td>\n",
       "      <td>2.500000e+03</td>\n",
       "      <td>0.1</td>\n",
       "      <td>9.880000e+01</td>\n",
       "    </tr>\n",
       "    <tr>\n",
       "      <td>549129</td>\n",
       "      <td>808.0</td>\n",
       "      <td>53</td>\n",
       "      <td>56</td>\n",
       "      <td>0.0</td>\n",
       "      <td>5.0</td>\n",
       "      <td>1</td>\n",
       "      <td>0.0</td>\n",
       "      <td>33</td>\n",
       "      <td>2</td>\n",
       "      <td>4.000000e+03</td>\n",
       "      <td>1.9</td>\n",
       "      <td>1.882490e+03</td>\n",
       "    </tr>\n",
       "    <tr>\n",
       "      <td>549130</td>\n",
       "      <td>808.0</td>\n",
       "      <td>53</td>\n",
       "      <td>56</td>\n",
       "      <td>0.0</td>\n",
       "      <td>5.0</td>\n",
       "      <td>1</td>\n",
       "      <td>0.0</td>\n",
       "      <td>34</td>\n",
       "      <td>2</td>\n",
       "      <td>1.869000e+05</td>\n",
       "      <td>34.7</td>\n",
       "      <td>3.358560e+04</td>\n",
       "    </tr>\n",
       "    <tr>\n",
       "      <td>549131</td>\n",
       "      <td>808.0</td>\n",
       "      <td>53</td>\n",
       "      <td>56</td>\n",
       "      <td>0.0</td>\n",
       "      <td>5.0</td>\n",
       "      <td>1</td>\n",
       "      <td>0.0</td>\n",
       "      <td>39</td>\n",
       "      <td>2</td>\n",
       "      <td>2.100000e+03</td>\n",
       "      <td>1.3</td>\n",
       "      <td>1.287920e+03</td>\n",
       "    </tr>\n",
       "  </tbody>\n",
       "</table>\n",
       "<p>501231 rows × 12 columns</p>\n",
       "</div>"
      ],
      "text/plain": [
       "        fr_orig  dms_origst  dms_destst  fr_dest  fr_inmode  dms_mode  \\\n",
       "0           0.0           1           1      0.0        0.0         1   \n",
       "1           0.0           1           1      0.0        0.0         1   \n",
       "2           0.0           1           1      0.0        0.0         1   \n",
       "3           0.0           1           1      0.0        0.0         1   \n",
       "4           0.0           1           1      0.0        0.0         1   \n",
       "...         ...         ...         ...      ...        ...       ...   \n",
       "549127    808.0          53          56      0.0        5.0         1   \n",
       "549128    808.0          53          56      0.0        5.0         1   \n",
       "549129    808.0          53          56      0.0        5.0         1   \n",
       "549130    808.0          53          56      0.0        5.0         1   \n",
       "549131    808.0          53          56      0.0        5.0         1   \n",
       "\n",
       "        fr_outmode  sctg2  trade_type    value_2012  tons_2012   tmiles_2012  \n",
       "0              0.0      1           1  1.298419e+09  1206111.5  1.202242e+08  \n",
       "1              0.0      2           1  4.859232e+08  2560656.6  2.398065e+08  \n",
       "2              0.0      3           1  1.031411e+09  2799152.8  2.386177e+08  \n",
       "3              0.0      4           1  7.531903e+08  3095777.6  2.769346e+08  \n",
       "4              0.0      5           1  2.130668e+09   911745.5  6.706868e+07  \n",
       "...            ...    ...         ...           ...        ...           ...  \n",
       "549127         0.0     26           2  2.000000e+03        0.4  3.960600e+02  \n",
       "549128         0.0     30           2  2.500000e+03        0.1  9.880000e+01  \n",
       "549129         0.0     33           2  4.000000e+03        1.9  1.882490e+03  \n",
       "549130         0.0     34           2  1.869000e+05       34.7  3.358560e+04  \n",
       "549131         0.0     39           2  2.100000e+03        1.3  1.287920e+03  \n",
       "\n",
       "[501231 rows x 12 columns]"
      ]
     },
     "execution_count": 73,
     "metadata": {},
     "output_type": "execute_result"
    }
   ],
   "source": [
    "df_faf2012"
   ]
  },
  {
   "cell_type": "code",
   "execution_count": 74,
   "metadata": {},
   "outputs": [],
   "source": [
    "from scipy.stats import levene\n"
   ]
  },
  {
   "cell_type": "code",
   "execution_count": 80,
   "metadata": {},
   "outputs": [
    {
     "data": {
      "text/plain": [
       "LeveneResult(statistic=2015.07786951574, pvalue=0.0)"
      ]
     },
     "execution_count": 80,
     "metadata": {},
     "output_type": "execute_result"
    }
   ],
   "source": [
    "levene(df_faf2012[\"value_2012\"],df_faf2012[\"tons_2012\"])"
   ]
  },
  {
   "cell_type": "code",
   "execution_count": 81,
   "metadata": {},
   "outputs": [
    {
     "data": {
      "text/plain": [
       "LeveneResult(statistic=648.0368372639188, pvalue=6.632324770162588e-143)"
      ]
     },
     "execution_count": 81,
     "metadata": {},
     "output_type": "execute_result"
    }
   ],
   "source": [
    "levene(df_faf2012[\"value_2012\"],df_faf2012[\"tmiles_2012\"])"
   ]
  },
  {
   "cell_type": "code",
   "execution_count": 82,
   "metadata": {},
   "outputs": [
    {
     "data": {
      "text/plain": [
       "F_onewayResult(statistic=2022.5916385330343, pvalue=0.0)"
      ]
     },
     "execution_count": 82,
     "metadata": {},
     "output_type": "execute_result"
    }
   ],
   "source": [
    "from scipy.stats import f_oneway\n",
    "f_oneway(df_faf2012[\"sctg2\"],df_faf2012[\"value_2012\"])"
   ]
  },
  {
   "cell_type": "code",
   "execution_count": 83,
   "metadata": {},
   "outputs": [
    {
     "data": {
      "text/plain": [
       "F_onewayResult(statistic=2022.591309813595, pvalue=0.0)"
      ]
     },
     "execution_count": 83,
     "metadata": {},
     "output_type": "execute_result"
    }
   ],
   "source": [
    "from scipy.stats import f_oneway\n",
    "f_oneway(df_faf2012[\"dms_origst\"],df_faf2012[\"value_2012\"])"
   ]
  },
  {
   "cell_type": "code",
   "execution_count": 11,
   "metadata": {},
   "outputs": [
    {
     "data": {
      "text/plain": [
       "107163382200.0"
      ]
     },
     "execution_count": 11,
     "metadata": {},
     "output_type": "execute_result"
    }
   ],
   "source": [
    "df_faf2012[\"tmiles_2012\"].max()"
   ]
  },
  {
   "cell_type": "code",
   "execution_count": null,
   "metadata": {},
   "outputs": [],
   "source": []
  }
 ],
 "metadata": {
  "kernelspec": {
   "display_name": "Python 3",
   "language": "python",
   "name": "python3"
  },
  "language_info": {
   "codemirror_mode": {
    "name": "ipython",
    "version": 3
   },
   "file_extension": ".py",
   "mimetype": "text/x-python",
   "name": "python",
   "nbconvert_exporter": "python",
   "pygments_lexer": "ipython3",
   "version": "3.7.3"
  }
 },
 "nbformat": 4,
 "nbformat_minor": 2
}
