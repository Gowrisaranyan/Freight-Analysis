{
 "cells": [
  {
   "cell_type": "code",
   "execution_count": 53,
   "metadata": {},
   "outputs": [],
   "source": [
    "import numpy as np\n",
    "import pandas as pd"
   ]
  },
  {
   "cell_type": "code",
   "execution_count": 54,
   "metadata": {},
   "outputs": [],
   "source": [
    "v=pd.read_csv(\"Updated_FAF.csv\")\n"
   ]
  },
  {
   "cell_type": "code",
   "execution_count": 55,
   "metadata": {},
   "outputs": [],
   "source": [
    "v=v.drop(\"Unnamed: 0\",axis=1)"
   ]
  },
  {
   "cell_type": "code",
   "execution_count": 56,
   "metadata": {},
   "outputs": [],
   "source": [
    "v=v.drop(\"curval_2012\",axis=1)"
   ]
  },
  {
   "cell_type": "code",
   "execution_count": 83,
   "metadata": {},
   "outputs": [],
   "source": [
    "df_faf2012=pd.read_csv(\"faf35_provisional_2012_state.csv\")\n"
   ]
  },
  {
   "cell_type": "code",
   "execution_count": 85,
   "metadata": {},
   "outputs": [
    {
     "data": {
      "text/html": [
       "<div>\n",
       "<style scoped>\n",
       "    .dataframe tbody tr th:only-of-type {\n",
       "        vertical-align: middle;\n",
       "    }\n",
       "\n",
       "    .dataframe tbody tr th {\n",
       "        vertical-align: top;\n",
       "    }\n",
       "\n",
       "    .dataframe thead th {\n",
       "        text-align: right;\n",
       "    }\n",
       "</style>\n",
       "<table border=\"1\" class=\"dataframe\">\n",
       "  <thead>\n",
       "    <tr style=\"text-align: right;\">\n",
       "      <th></th>\n",
       "      <th>fr_orig</th>\n",
       "      <th>dms_origst</th>\n",
       "      <th>dms_destst</th>\n",
       "      <th>fr_dest</th>\n",
       "      <th>fr_inmode</th>\n",
       "      <th>dms_mode</th>\n",
       "      <th>fr_outmode</th>\n",
       "      <th>sctg2</th>\n",
       "      <th>trade_type</th>\n",
       "      <th>value_2012</th>\n",
       "      <th>curval_2012</th>\n",
       "      <th>tons_2012</th>\n",
       "      <th>tmiles_2012</th>\n",
       "    </tr>\n",
       "  </thead>\n",
       "  <tbody>\n",
       "    <tr>\n",
       "      <td>0</td>\n",
       "      <td>NaN</td>\n",
       "      <td>1</td>\n",
       "      <td>1</td>\n",
       "      <td>NaN</td>\n",
       "      <td>NaN</td>\n",
       "      <td>1</td>\n",
       "      <td>NaN</td>\n",
       "      <td>1</td>\n",
       "      <td>1</td>\n",
       "      <td>1298.4192</td>\n",
       "      <td>1301.1587</td>\n",
       "      <td>1206.1115</td>\n",
       "      <td>120.224158</td>\n",
       "    </tr>\n",
       "    <tr>\n",
       "      <td>1</td>\n",
       "      <td>NaN</td>\n",
       "      <td>1</td>\n",
       "      <td>1</td>\n",
       "      <td>NaN</td>\n",
       "      <td>NaN</td>\n",
       "      <td>1</td>\n",
       "      <td>NaN</td>\n",
       "      <td>2</td>\n",
       "      <td>1</td>\n",
       "      <td>485.9232</td>\n",
       "      <td>484.1869</td>\n",
       "      <td>2560.6566</td>\n",
       "      <td>239.806479</td>\n",
       "    </tr>\n",
       "    <tr>\n",
       "      <td>2</td>\n",
       "      <td>NaN</td>\n",
       "      <td>1</td>\n",
       "      <td>1</td>\n",
       "      <td>NaN</td>\n",
       "      <td>NaN</td>\n",
       "      <td>1</td>\n",
       "      <td>NaN</td>\n",
       "      <td>3</td>\n",
       "      <td>1</td>\n",
       "      <td>1031.4111</td>\n",
       "      <td>1028.2293</td>\n",
       "      <td>2799.1528</td>\n",
       "      <td>238.617660</td>\n",
       "    </tr>\n",
       "    <tr>\n",
       "      <td>3</td>\n",
       "      <td>NaN</td>\n",
       "      <td>1</td>\n",
       "      <td>1</td>\n",
       "      <td>NaN</td>\n",
       "      <td>NaN</td>\n",
       "      <td>1</td>\n",
       "      <td>NaN</td>\n",
       "      <td>4</td>\n",
       "      <td>1</td>\n",
       "      <td>753.1903</td>\n",
       "      <td>755.9042</td>\n",
       "      <td>3095.7776</td>\n",
       "      <td>276.934624</td>\n",
       "    </tr>\n",
       "    <tr>\n",
       "      <td>4</td>\n",
       "      <td>NaN</td>\n",
       "      <td>1</td>\n",
       "      <td>1</td>\n",
       "      <td>NaN</td>\n",
       "      <td>NaN</td>\n",
       "      <td>1</td>\n",
       "      <td>NaN</td>\n",
       "      <td>5</td>\n",
       "      <td>1</td>\n",
       "      <td>2130.6679</td>\n",
       "      <td>2133.1313</td>\n",
       "      <td>911.7455</td>\n",
       "      <td>67.068679</td>\n",
       "    </tr>\n",
       "    <tr>\n",
       "      <td>...</td>\n",
       "      <td>...</td>\n",
       "      <td>...</td>\n",
       "      <td>...</td>\n",
       "      <td>...</td>\n",
       "      <td>...</td>\n",
       "      <td>...</td>\n",
       "      <td>...</td>\n",
       "      <td>...</td>\n",
       "      <td>...</td>\n",
       "      <td>...</td>\n",
       "      <td>...</td>\n",
       "      <td>...</td>\n",
       "      <td>...</td>\n",
       "    </tr>\n",
       "    <tr>\n",
       "      <td>549127</td>\n",
       "      <td>808.0</td>\n",
       "      <td>53</td>\n",
       "      <td>56</td>\n",
       "      <td>NaN</td>\n",
       "      <td>5.0</td>\n",
       "      <td>1</td>\n",
       "      <td>NaN</td>\n",
       "      <td>26</td>\n",
       "      <td>2</td>\n",
       "      <td>0.0020</td>\n",
       "      <td>0.0023</td>\n",
       "      <td>0.0004</td>\n",
       "      <td>0.000396</td>\n",
       "    </tr>\n",
       "    <tr>\n",
       "      <td>549128</td>\n",
       "      <td>808.0</td>\n",
       "      <td>53</td>\n",
       "      <td>56</td>\n",
       "      <td>NaN</td>\n",
       "      <td>5.0</td>\n",
       "      <td>1</td>\n",
       "      <td>NaN</td>\n",
       "      <td>30</td>\n",
       "      <td>2</td>\n",
       "      <td>0.0025</td>\n",
       "      <td>0.0028</td>\n",
       "      <td>0.0001</td>\n",
       "      <td>0.000099</td>\n",
       "    </tr>\n",
       "    <tr>\n",
       "      <td>549129</td>\n",
       "      <td>808.0</td>\n",
       "      <td>53</td>\n",
       "      <td>56</td>\n",
       "      <td>NaN</td>\n",
       "      <td>5.0</td>\n",
       "      <td>1</td>\n",
       "      <td>NaN</td>\n",
       "      <td>33</td>\n",
       "      <td>2</td>\n",
       "      <td>0.0040</td>\n",
       "      <td>0.0044</td>\n",
       "      <td>0.0019</td>\n",
       "      <td>0.001882</td>\n",
       "    </tr>\n",
       "    <tr>\n",
       "      <td>549130</td>\n",
       "      <td>808.0</td>\n",
       "      <td>53</td>\n",
       "      <td>56</td>\n",
       "      <td>NaN</td>\n",
       "      <td>5.0</td>\n",
       "      <td>1</td>\n",
       "      <td>NaN</td>\n",
       "      <td>34</td>\n",
       "      <td>2</td>\n",
       "      <td>0.1869</td>\n",
       "      <td>0.2070</td>\n",
       "      <td>0.0347</td>\n",
       "      <td>0.033586</td>\n",
       "    </tr>\n",
       "    <tr>\n",
       "      <td>549131</td>\n",
       "      <td>808.0</td>\n",
       "      <td>53</td>\n",
       "      <td>56</td>\n",
       "      <td>NaN</td>\n",
       "      <td>5.0</td>\n",
       "      <td>1</td>\n",
       "      <td>NaN</td>\n",
       "      <td>39</td>\n",
       "      <td>2</td>\n",
       "      <td>0.0021</td>\n",
       "      <td>0.0024</td>\n",
       "      <td>0.0013</td>\n",
       "      <td>0.001288</td>\n",
       "    </tr>\n",
       "  </tbody>\n",
       "</table>\n",
       "<p>549132 rows × 13 columns</p>\n",
       "</div>"
      ],
      "text/plain": [
       "        fr_orig  dms_origst  dms_destst  fr_dest  fr_inmode  dms_mode  \\\n",
       "0           NaN           1           1      NaN        NaN         1   \n",
       "1           NaN           1           1      NaN        NaN         1   \n",
       "2           NaN           1           1      NaN        NaN         1   \n",
       "3           NaN           1           1      NaN        NaN         1   \n",
       "4           NaN           1           1      NaN        NaN         1   \n",
       "...         ...         ...         ...      ...        ...       ...   \n",
       "549127    808.0          53          56      NaN        5.0         1   \n",
       "549128    808.0          53          56      NaN        5.0         1   \n",
       "549129    808.0          53          56      NaN        5.0         1   \n",
       "549130    808.0          53          56      NaN        5.0         1   \n",
       "549131    808.0          53          56      NaN        5.0         1   \n",
       "\n",
       "        fr_outmode  sctg2  trade_type  value_2012  curval_2012  tons_2012  \\\n",
       "0              NaN      1           1   1298.4192    1301.1587  1206.1115   \n",
       "1              NaN      2           1    485.9232     484.1869  2560.6566   \n",
       "2              NaN      3           1   1031.4111    1028.2293  2799.1528   \n",
       "3              NaN      4           1    753.1903     755.9042  3095.7776   \n",
       "4              NaN      5           1   2130.6679    2133.1313   911.7455   \n",
       "...            ...    ...         ...         ...          ...        ...   \n",
       "549127         NaN     26           2      0.0020       0.0023     0.0004   \n",
       "549128         NaN     30           2      0.0025       0.0028     0.0001   \n",
       "549129         NaN     33           2      0.0040       0.0044     0.0019   \n",
       "549130         NaN     34           2      0.1869       0.2070     0.0347   \n",
       "549131         NaN     39           2      0.0021       0.0024     0.0013   \n",
       "\n",
       "        tmiles_2012  \n",
       "0        120.224158  \n",
       "1        239.806479  \n",
       "2        238.617660  \n",
       "3        276.934624  \n",
       "4         67.068679  \n",
       "...             ...  \n",
       "549127     0.000396  \n",
       "549128     0.000099  \n",
       "549129     0.001882  \n",
       "549130     0.033586  \n",
       "549131     0.001288  \n",
       "\n",
       "[549132 rows x 13 columns]"
      ]
     },
     "execution_count": 85,
     "metadata": {},
     "output_type": "execute_result"
    }
   ],
   "source": [
    "df_faf2012"
   ]
  },
  {
   "cell_type": "code",
   "execution_count": 86,
   "metadata": {},
   "outputs": [],
   "source": [
    "df_faf2012=df_faf2012.drop([\"curval_2012\"],axis=1)\n"
   ]
  },
  {
   "cell_type": "code",
   "execution_count": 87,
   "metadata": {},
   "outputs": [],
   "source": [
    "df_faf2012=df_faf2012.fillna(0)"
   ]
  },
  {
   "cell_type": "code",
   "execution_count": 61,
   "metadata": {},
   "outputs": [],
   "source": [
    "X = df_faf2012.drop(\"value_2012\",axis=1)\n",
    "y = df_faf2012[\"value_2012\"]"
   ]
  },
  {
   "cell_type": "code",
   "execution_count": 62,
   "metadata": {},
   "outputs": [],
   "source": [
    "from sklearn.model_selection import train_test_split\n",
    "X_train, X_test, y_train, y_test = train_test_split(X, y, test_size=0.30, random_state=42)"
   ]
  },
  {
   "cell_type": "code",
   "execution_count": 63,
   "metadata": {},
   "outputs": [
    {
     "data": {
      "text/plain": [
       "LinearRegression(copy_X=True, fit_intercept=True, n_jobs=None, normalize=False)"
      ]
     },
     "execution_count": 63,
     "metadata": {},
     "output_type": "execute_result"
    }
   ],
   "source": [
    "from sklearn.linear_model import LinearRegression\n",
    "LR=LinearRegression()\n",
    "LR.fit(X_train,y_train)"
   ]
  },
  {
   "cell_type": "code",
   "execution_count": 64,
   "metadata": {},
   "outputs": [
    {
     "data": {
      "text/plain": [
       "array([ 89.28771694,  59.84633885,  18.96791746, ..., -28.91472958,\n",
       "        15.25354306,  82.21674257])"
      ]
     },
     "execution_count": 64,
     "metadata": {},
     "output_type": "execute_result"
    }
   ],
   "source": [
    "y_pred = LR.predict(X_test)\n",
    "y_pred"
   ]
  },
  {
   "cell_type": "code",
   "execution_count": 65,
   "metadata": {},
   "outputs": [],
   "source": [
    "residuals=y_test-y_pred\n"
   ]
  },
  {
   "cell_type": "code",
   "execution_count": 66,
   "metadata": {},
   "outputs": [
    {
     "data": {
      "text/plain": [
       "<matplotlib.axes._subplots.AxesSubplot at 0x2601e643a90>"
      ]
     },
     "execution_count": 66,
     "metadata": {},
     "output_type": "execute_result"
    },
    {
     "data": {
      "image/png": "[encoded data removed]",
      "text/plain": [
       "<Figure size 432x288 with 1 Axes>"
      ]
     },
     "metadata": {
      "needs_background": "light"
     },
     "output_type": "display_data"
    }
   ],
   "source": [
    "import seaborn as sns\n",
    "sns.scatterplot(y_pred,residuals)"
   ]
  },
  {
   "cell_type": "code",
   "execution_count": 67,
   "metadata": {},
   "outputs": [],
   "source": [
    "resid_mean=np.mean(residuals)\n",
    "resid_std=np.std(residuals,ddof=1)\n",
    "k=[]\n",
    "for i in residuals:\n",
    "    k.append(i/resid_std)"
   ]
  },
  {
   "cell_type": "code",
   "execution_count": 68,
   "metadata": {},
   "outputs": [],
   "source": [
    "std_resid=np.array(k)"
   ]
  },
  {
   "cell_type": "code",
   "execution_count": 69,
   "metadata": {},
   "outputs": [
    {
     "data": {
      "text/plain": [
       "<matplotlib.axes._subplots.AxesSubplot at 0x26019b0ed30>"
      ]
     },
     "execution_count": 69,
     "metadata": {},
     "output_type": "execute_result"
    },
    {
     "data": {
      "image/png": "[encoded data removed]",
      "text/plain": [
       "<Figure size 432x288 with 1 Axes>"
      ]
     },
     "metadata": {
      "needs_background": "light"
     },
     "output_type": "display_data"
    }
   ],
   "source": [
    "sns.scatterplot(y_pred,std_resid)"
   ]
  },
  {
   "cell_type": "markdown",
   "metadata": {},
   "source": [
    "A common use of the residuals plot is to analyze the variance of the error of the regressor. If the points are randomly dispersed around the horizontal axis, a linear regression model is usually appropriate for the data.otherwise, a non-linear model is more appropriate.Our residual plot shows a clear shape instead of randomly dispersed points which mean there is a specific patteren to the datset such as presence outliers which makes difficult to predict in linear regression"
   ]
  },
  {
   "cell_type": "code",
   "execution_count": 70,
   "metadata": {},
   "outputs": [
    {
     "name": "stdout",
     "output_type": "stream",
     "text": [
      "Train score : 0.11519635787165451\n",
      "test score : 0.18103540730700607\n",
      "RMSE:  493.31207044339993\n",
      "R_SQR:  0.18103540730700607\n"
     ]
    }
   ],
   "source": [
    "from sklearn.metrics import r2_score\n",
    "from sklearn import metrics\n",
    "\n",
    "print(\"Train score :\",LR.score(X_train,y_train))\n",
    "print(\"test score :\",LR.score(X_test,y_test))\n",
    "RMSE=np.sqrt(metrics.mean_squared_error(y_test,y_pred))\n",
    "print(\"RMSE: \",RMSE)\n",
    "print(\"R_SQR: \",r2_score(y_test,y_pred))"
   ]
  },
  {
   "cell_type": "code",
   "execution_count": 71,
   "metadata": {},
   "outputs": [],
   "source": [
    "from sklearn import model_selection\n",
    "kfold=model_selection.KFold(shuffle=True,n_splits=5,random_state=10)\n",
    "CV_results=model_selection.cross_val_score(LR,X,y,cv=kfold,scoring=\"r2\")"
   ]
  },
  {
   "cell_type": "code",
   "execution_count": 72,
   "metadata": {},
   "outputs": [
    {
     "data": {
      "text/plain": [
       "array([0.18915371, 0.10905157, 0.12579418, 0.08131418, 0.17301407])"
      ]
     },
     "execution_count": 72,
     "metadata": {},
     "output_type": "execute_result"
    }
   ],
   "source": [
    "CV_results"
   ]
  },
  {
   "cell_type": "code",
   "execution_count": 73,
   "metadata": {},
   "outputs": [],
   "source": [
    "from sklearn.ensemble import RandomForestRegressor\n",
    "regressor=RandomForestRegressor(n_estimators=10,random_state=0)"
   ]
  },
  {
   "cell_type": "code",
   "execution_count": 74,
   "metadata": {},
   "outputs": [],
   "source": [
    "df_faf2012=pd.read_csv(\"faf35_provisional_2012_state.csv\")\n"
   ]
  },
  {
   "cell_type": "code",
   "execution_count": 75,
   "metadata": {},
   "outputs": [],
   "source": [
    "df_faf2012=df_faf2012.fillna(0)"
   ]
  },
  {
   "cell_type": "code",
   "execution_count": 76,
   "metadata": {},
   "outputs": [],
   "source": [
    "df_faf2012=df_faf2012.drop([\"curval_2012\"],axis=1)\n"
   ]
  },
  {
   "cell_type": "code",
   "execution_count": 77,
   "metadata": {},
   "outputs": [
    {
     "data": {
      "text/html": [
       "<div>\n",
       "<style scoped>\n",
       "    .dataframe tbody tr th:only-of-type {\n",
       "        vertical-align: middle;\n",
       "    }\n",
       "\n",
       "    .dataframe tbody tr th {\n",
       "        vertical-align: top;\n",
       "    }\n",
       "\n",
       "    .dataframe thead th {\n",
       "        text-align: right;\n",
       "    }\n",
       "</style>\n",
       "<table border=\"1\" class=\"dataframe\">\n",
       "  <thead>\n",
       "    <tr style=\"text-align: right;\">\n",
       "      <th></th>\n",
       "      <th>fr_orig</th>\n",
       "      <th>dms_origst</th>\n",
       "      <th>dms_destst</th>\n",
       "      <th>fr_dest</th>\n",
       "      <th>fr_inmode</th>\n",
       "      <th>dms_mode</th>\n",
       "      <th>fr_outmode</th>\n",
       "      <th>sctg2</th>\n",
       "      <th>trade_type</th>\n",
       "      <th>value_2012</th>\n",
       "      <th>tons_2012</th>\n",
       "      <th>tmiles_2012</th>\n",
       "    </tr>\n",
       "  </thead>\n",
       "  <tbody>\n",
       "    <tr>\n",
       "      <td>0</td>\n",
       "      <td>0.0</td>\n",
       "      <td>1</td>\n",
       "      <td>1</td>\n",
       "      <td>0.0</td>\n",
       "      <td>0.0</td>\n",
       "      <td>1</td>\n",
       "      <td>0.0</td>\n",
       "      <td>1</td>\n",
       "      <td>1</td>\n",
       "      <td>1298.4192</td>\n",
       "      <td>1206.1115</td>\n",
       "      <td>120.224158</td>\n",
       "    </tr>\n",
       "    <tr>\n",
       "      <td>1</td>\n",
       "      <td>0.0</td>\n",
       "      <td>1</td>\n",
       "      <td>1</td>\n",
       "      <td>0.0</td>\n",
       "      <td>0.0</td>\n",
       "      <td>1</td>\n",
       "      <td>0.0</td>\n",
       "      <td>2</td>\n",
       "      <td>1</td>\n",
       "      <td>485.9232</td>\n",
       "      <td>2560.6566</td>\n",
       "      <td>239.806479</td>\n",
       "    </tr>\n",
       "    <tr>\n",
       "      <td>2</td>\n",
       "      <td>0.0</td>\n",
       "      <td>1</td>\n",
       "      <td>1</td>\n",
       "      <td>0.0</td>\n",
       "      <td>0.0</td>\n",
       "      <td>1</td>\n",
       "      <td>0.0</td>\n",
       "      <td>3</td>\n",
       "      <td>1</td>\n",
       "      <td>1031.4111</td>\n",
       "      <td>2799.1528</td>\n",
       "      <td>238.617660</td>\n",
       "    </tr>\n",
       "  </tbody>\n",
       "</table>\n",
       "</div>"
      ],
      "text/plain": [
       "   fr_orig  dms_origst  dms_destst  fr_dest  fr_inmode  dms_mode  fr_outmode  \\\n",
       "0      0.0           1           1      0.0        0.0         1         0.0   \n",
       "1      0.0           1           1      0.0        0.0         1         0.0   \n",
       "2      0.0           1           1      0.0        0.0         1         0.0   \n",
       "\n",
       "   sctg2  trade_type  value_2012  tons_2012  tmiles_2012  \n",
       "0      1           1   1298.4192  1206.1115   120.224158  \n",
       "1      2           1    485.9232  2560.6566   239.806479  \n",
       "2      3           1   1031.4111  2799.1528   238.617660  "
      ]
     },
     "execution_count": 77,
     "metadata": {},
     "output_type": "execute_result"
    }
   ],
   "source": [
    "df_faf2012.head(3)"
   ]
  },
  {
   "cell_type": "code",
   "execution_count": 78,
   "metadata": {},
   "outputs": [],
   "source": [
    "X = df_faf2012.drop(\"value_2012\",axis=1)\n",
    "y = df_faf2012[\"value_2012\"]"
   ]
  },
  {
   "cell_type": "code",
   "execution_count": 79,
   "metadata": {},
   "outputs": [],
   "source": [
    "kfold=model_selection.KFold(shuffle=True,n_splits=5,random_state=7)\n",
    "CV_results=model_selection.cross_val_score(regressor,X,y,cv=kfold,scoring=\"r2\")"
   ]
  },
  {
   "cell_type": "code",
   "execution_count": 80,
   "metadata": {},
   "outputs": [
    {
     "data": {
      "text/plain": [
       "array([0.67836253, 0.73545241, 0.75349708, 0.7819324 , 0.68928667])"
      ]
     },
     "execution_count": 80,
     "metadata": {},
     "output_type": "execute_result"
    }
   ],
   "source": [
    "CV_results"
   ]
  },
  {
   "cell_type": "code",
   "execution_count": 29,
   "metadata": {},
   "outputs": [
    {
     "name": "stdout",
     "output_type": "stream",
     "text": [
      "AVerage BIAS ERROR 0.2722937809171657\n",
      "AVerage variance ERROR 0.04352157812084495\n"
     ]
    }
   ],
   "source": [
    "print(\"AVerage BIAS ERROR\",1-CV_results.mean())\n",
    "print(\"AVerage variance ERROR\",np.std(CV_results,ddof=1))"
   ]
  },
  {
   "cell_type": "code",
   "execution_count": 30,
   "metadata": {},
   "outputs": [],
   "source": [
    "#SQRT TRANSFORMATION"
   ]
  },
  {
   "cell_type": "code",
   "execution_count": 31,
   "metadata": {},
   "outputs": [],
   "source": [
    "X = df_faf2012.drop(\"value_2012\",axis=1)\n",
    "y = df_faf2012[\"value_2012\"]\n",
    "df_faf2012_Transform=df_faf2012[[\"value_2012\",\"tons_2012\",\"tmiles_2012\"]]"
   ]
  },
  {
   "cell_type": "code",
   "execution_count": 32,
   "metadata": {},
   "outputs": [],
   "source": [
    "df_faf2012_F=df_faf2012.iloc[:,0:9]"
   ]
  },
  {
   "cell_type": "code",
   "execution_count": 33,
   "metadata": {},
   "outputs": [],
   "source": [
    "df_faf2012_Transform=df_faf2012_Transform.transform(func = ['sqrt'])"
   ]
  },
  {
   "cell_type": "code",
   "execution_count": 34,
   "metadata": {},
   "outputs": [],
   "source": [
    "df_faf2012_Transform=pd.concat([df_faf2012_F,df_faf2012_Transform],axis=1)"
   ]
  },
  {
   "cell_type": "code",
   "execution_count": 35,
   "metadata": {},
   "outputs": [
    {
     "data": {
      "text/html": [
       "<div>\n",
       "<style scoped>\n",
       "    .dataframe tbody tr th:only-of-type {\n",
       "        vertical-align: middle;\n",
       "    }\n",
       "\n",
       "    .dataframe tbody tr th {\n",
       "        vertical-align: top;\n",
       "    }\n",
       "\n",
       "    .dataframe thead th {\n",
       "        text-align: right;\n",
       "    }\n",
       "</style>\n",
       "<table border=\"1\" class=\"dataframe\">\n",
       "  <thead>\n",
       "    <tr style=\"text-align: right;\">\n",
       "      <th></th>\n",
       "      <th>fr_orig</th>\n",
       "      <th>dms_origst</th>\n",
       "      <th>dms_destst</th>\n",
       "      <th>fr_dest</th>\n",
       "      <th>fr_inmode</th>\n",
       "      <th>dms_mode</th>\n",
       "      <th>fr_outmode</th>\n",
       "      <th>sctg2</th>\n",
       "      <th>trade_type</th>\n",
       "      <th>(value_2012, sqrt)</th>\n",
       "      <th>(tons_2012, sqrt)</th>\n",
       "      <th>(tmiles_2012, sqrt)</th>\n",
       "    </tr>\n",
       "  </thead>\n",
       "  <tbody>\n",
       "    <tr>\n",
       "      <td>0</td>\n",
       "      <td>0.0</td>\n",
       "      <td>1</td>\n",
       "      <td>1</td>\n",
       "      <td>0.0</td>\n",
       "      <td>0.0</td>\n",
       "      <td>1</td>\n",
       "      <td>0.0</td>\n",
       "      <td>1</td>\n",
       "      <td>1</td>\n",
       "      <td>36.033584</td>\n",
       "      <td>34.729116</td>\n",
       "      <td>10.964678</td>\n",
       "    </tr>\n",
       "    <tr>\n",
       "      <td>1</td>\n",
       "      <td>0.0</td>\n",
       "      <td>1</td>\n",
       "      <td>1</td>\n",
       "      <td>0.0</td>\n",
       "      <td>0.0</td>\n",
       "      <td>1</td>\n",
       "      <td>0.0</td>\n",
       "      <td>2</td>\n",
       "      <td>1</td>\n",
       "      <td>22.043666</td>\n",
       "      <td>50.602931</td>\n",
       "      <td>15.485686</td>\n",
       "    </tr>\n",
       "  </tbody>\n",
       "</table>\n",
       "</div>"
      ],
      "text/plain": [
       "   fr_orig  dms_origst  dms_destst  fr_dest  fr_inmode  dms_mode  fr_outmode  \\\n",
       "0      0.0           1           1      0.0        0.0         1         0.0   \n",
       "1      0.0           1           1      0.0        0.0         1         0.0   \n",
       "\n",
       "   sctg2  trade_type  (value_2012, sqrt)  (tons_2012, sqrt)  \\\n",
       "0      1           1           36.033584          34.729116   \n",
       "1      2           1           22.043666          50.602931   \n",
       "\n",
       "   (tmiles_2012, sqrt)  \n",
       "0            10.964678  \n",
       "1            15.485686  "
      ]
     },
     "execution_count": 35,
     "metadata": {},
     "output_type": "execute_result"
    }
   ],
   "source": [
    "df_faf2012_Transform.head(2)"
   ]
  },
  {
   "cell_type": "code",
   "execution_count": 36,
   "metadata": {},
   "outputs": [],
   "source": [
    "#df.rename(columns={\"A\": \"a\", \"B\": \"c\"})\n",
    "df_faf2012_Transform=df_faf2012_Transform.rename(columns={('value_2012', 'sqrt'): \"value_2012_sqrt\",('tons_2012', 'sqrt'):\"Tons_2012_sqrt\",('tmiles_2012', 'sqrt'):\"tmiles_2012_sqrt\"})\n",
    "import seaborn as sns\n",
    "#sns.distplot(df_faf2012_Transform[\"(value_2012,sqrt)\"])"
   ]
  },
  {
   "cell_type": "code",
   "execution_count": 37,
   "metadata": {},
   "outputs": [
    {
     "data": {
      "text/plain": [
       "Index(['fr_orig', 'dms_origst', 'dms_destst', 'fr_dest', 'fr_inmode',\n",
       "       'dms_mode', 'fr_outmode', 'sctg2', 'trade_type', 'value_2012_sqrt',\n",
       "       'Tons_2012_sqrt', 'tmiles_2012_sqrt'],\n",
       "      dtype='object')"
      ]
     },
     "execution_count": 37,
     "metadata": {},
     "output_type": "execute_result"
    }
   ],
   "source": [
    "df_faf2012_Transform.columns"
   ]
  },
  {
   "cell_type": "code",
   "execution_count": 38,
   "metadata": {},
   "outputs": [
    {
     "data": {
      "text/plain": [
       "<matplotlib.axes._subplots.AxesSubplot at 0x260287b7b00>"
      ]
     },
     "execution_count": 38,
     "metadata": {},
     "output_type": "execute_result"
    },
    {
     "data": {
      "image/png": "[encoded data removed]",
      "text/plain": [
       "<Figure size 432x288 with 1 Axes>"
      ]
     },
     "metadata": {
      "needs_background": "light"
     },
     "output_type": "display_data"
    }
   ],
   "source": [
    "import seaborn as sns\n",
    "sns.distplot(df_faf2012_Transform[\"value_2012_sqrt\"])"
   ]
  },
  {
   "cell_type": "code",
   "execution_count": 39,
   "metadata": {},
   "outputs": [],
   "source": [
    "from statsmodels.stats.outliers_influence import variance_inflation_factor\n",
    "X = df_faf2012_Transform.drop(\"value_2012_sqrt\",axis=1)\n",
    "y = df_faf2012_Transform[\"value_2012_sqrt\"]\n",
    "VIF_Columns =pd.Series([variance_inflation_factor(X.values, i) \n",
    "               for i in range(X.shape[1])], \n",
    "              index=X.columns)"
   ]
  },
  {
   "cell_type": "code",
   "execution_count": 40,
   "metadata": {},
   "outputs": [
    {
     "data": {
      "text/plain": [
       "fr_orig             17.505847\n",
       "dms_origst           4.709623\n",
       "dms_destst           4.565674\n",
       "fr_dest             37.244149\n",
       "fr_inmode            7.298410\n",
       "dms_mode             2.940817\n",
       "fr_outmode           8.898998\n",
       "sctg2                4.384901\n",
       "trade_type          73.833570\n",
       "Tons_2012_sqrt       2.922923\n",
       "tmiles_2012_sqrt     3.097737\n",
       "dtype: float64"
      ]
     },
     "execution_count": 40,
     "metadata": {},
     "output_type": "execute_result"
    }
   ],
   "source": [
    "VIF_Columns"
   ]
  },
  {
   "cell_type": "code",
   "execution_count": 41,
   "metadata": {},
   "outputs": [],
   "source": [
    "kfold=model_selection.KFold(shuffle=True,n_splits=5,random_state=7)\n",
    "CV_results=model_selection.cross_val_score(regressor,X,y,cv=kfold,scoring=\"r2\")"
   ]
  },
  {
   "cell_type": "code",
   "execution_count": 42,
   "metadata": {},
   "outputs": [
    {
     "data": {
      "text/plain": [
       "array([0.86983284, 0.86278488, 0.87270068, 0.87091306, 0.85982514])"
      ]
     },
     "execution_count": 42,
     "metadata": {},
     "output_type": "execute_result"
    }
   ],
   "source": [
    "CV_results"
   ]
  },
  {
   "cell_type": "code",
   "execution_count": 43,
   "metadata": {},
   "outputs": [
    {
     "name": "stdout",
     "output_type": "stream",
     "text": [
      "AVerage BIAS ERROR 0.13278867981736975\n",
      "AVerage variance ERROR 0.0055869813717196555\n"
     ]
    }
   ],
   "source": [
    "print(\"AVerage BIAS ERROR\",1-CV_results.mean())\n",
    "print(\"AVerage variance ERROR\",np.std(CV_results,ddof=1))"
   ]
  },
  {
   "cell_type": "markdown",
   "metadata": {},
   "source": [
    "#####  Removing the HIgh multicollinearity columns"
   ]
  },
  {
   "cell_type": "code",
   "execution_count": 44,
   "metadata": {},
   "outputs": [],
   "source": [
    "X = df_faf2012.drop([\"value_2012\",\"trade_type\",\"fr_dest\"],axis=1)#Removing top 2 feautres \n",
    "y = df_faf2012[\"value_2012\"]"
   ]
  },
  {
   "cell_type": "code",
   "execution_count": 45,
   "metadata": {},
   "outputs": [],
   "source": [
    "regressor=RandomForestRegressor(n_estimators=10,random_state=0)\n",
    "kfold=model_selection.KFold(shuffle=True,n_splits=5,random_state=7)\n",
    "CV_results=model_selection.cross_val_score(regressor,X,y,cv=kfold,scoring=\"r2\")"
   ]
  },
  {
   "cell_type": "code",
   "execution_count": 46,
   "metadata": {},
   "outputs": [
    {
     "name": "stdout",
     "output_type": "stream",
     "text": [
      "AVerage BIAS ERROR 0.2924956017440802\n",
      "AVerage variance ERROR 0.048148037852191426\n"
     ]
    }
   ],
   "source": [
    "print(\"AVerage BIAS ERROR\",1-CV_results.mean())\n",
    "print(\"AVerage variance ERROR\",np.std(CV_results,ddof=1))"
   ]
  },
  {
   "cell_type": "markdown",
   "metadata": {},
   "source": [
    "###### Removing only one feautre(highest multicollinearity column)"
   ]
  },
  {
   "cell_type": "code",
   "execution_count": 47,
   "metadata": {},
   "outputs": [],
   "source": [
    "X = df_faf2012.drop([\"value_2012\",\"fr_dest\"],axis=1)#Removing top 1 feautres \n",
    "y = df_faf2012[\"value_2012\"]"
   ]
  },
  {
   "cell_type": "code",
   "execution_count": 48,
   "metadata": {},
   "outputs": [],
   "source": [
    "regressor=RandomForestRegressor(n_estimators=10,random_state=0)\n",
    "kfold=model_selection.KFold(shuffle=True,n_splits=5,random_state=7)\n",
    "CV_results=model_selection.cross_val_score(regressor,X,y,cv=kfold,scoring=\"r2\")"
   ]
  },
  {
   "cell_type": "code",
   "execution_count": 49,
   "metadata": {},
   "outputs": [
    {
     "data": {
      "text/plain": [
       "array([0.6447387 , 0.69780362, 0.73644787, 0.78344629, 0.70777661])"
      ]
     },
     "execution_count": 49,
     "metadata": {},
     "output_type": "execute_result"
    }
   ],
   "source": [
    "CV_results"
   ]
  },
  {
   "cell_type": "code",
   "execution_count": 50,
   "metadata": {},
   "outputs": [
    {
     "name": "stdout",
     "output_type": "stream",
     "text": [
      "AVerage BIAS ERROR 0.28595738263664905\n",
      "AVerage variance ERROR 0.05105111690522089\n"
     ]
    }
   ],
   "source": [
    "print(\"AVerage BIAS ERROR\",1-CV_results.mean())\n",
    "print(\"AVerage variance ERROR\",np.std(CV_results,ddof=1))"
   ]
  },
  {
   "cell_type": "markdown",
   "metadata": {},
   "source": [
    "###### Selecting Best N-estimators"
   ]
  },
  {
   "cell_type": "code",
   "execution_count": 51,
   "metadata": {},
   "outputs": [],
   "source": [
    "X = df_faf2012.drop([\"value_2012\"],axis=1)\n",
    "y = df_faf2012[\"value_2012\"]"
   ]
  },
  {
   "cell_type": "code",
   "execution_count": 89,
   "metadata": {},
   "outputs": [],
   "source": [
    "values=[]\n",
    "reg_bias=[]\n",
    "reg_var=[]\n",
    "for val in np.arange(1,15):\n",
    "    regressor=RandomForestRegressor(n_estimators=val,random_state=0)\n",
    "    kfold=model_selection.KFold(n_splits=15,shuffle=True,random_state=5)\n",
    "    cv_results=model_selection.cross_val_score(regressor,X,y,scoring=\"r2\",cv=kfold)\n",
    "    reg_bias.append(1-np.mean(cv_results))\n",
    "    reg_var.append(np.std(CV_results,ddof=1))\n",
    "    values.append(val)\n",
    "    \n",
    "GBC_bias=pd.DataFrame({\"Estimators\":values,\"B.E\":reg_bias})\n",
    "GBC_reg=pd.DataFrame({\"Estimators\":values,\"B.E\":reg_var})"
   ]
  },
  {
   "cell_type": "code",
   "execution_count": null,
   "metadata": {},
   "outputs": [],
   "source": [
    "regressor=RandomForestRegressor(n_estimators=15,random_state=0)\n",
    "kfold=model_selection.KFold(shuffle=True,n_splits=5,random_state=7)\n",
    "CV_results=model_selection.cross_val_score(regressor,X,y,cv=kfold,scoring=\"r2\")"
   ]
  },
  {
   "cell_type": "code",
   "execution_count": 90,
   "metadata": {},
   "outputs": [
    {
     "data": {
      "text/html": [
       "<div>\n",
       "<style scoped>\n",
       "    .dataframe tbody tr th:only-of-type {\n",
       "        vertical-align: middle;\n",
       "    }\n",
       "\n",
       "    .dataframe tbody tr th {\n",
       "        vertical-align: top;\n",
       "    }\n",
       "\n",
       "    .dataframe thead th {\n",
       "        text-align: right;\n",
       "    }\n",
       "</style>\n",
       "<table border=\"1\" class=\"dataframe\">\n",
       "  <thead>\n",
       "    <tr style=\"text-align: right;\">\n",
       "      <th></th>\n",
       "      <th>Estimators</th>\n",
       "      <th>B.E</th>\n",
       "    </tr>\n",
       "  </thead>\n",
       "  <tbody>\n",
       "    <tr>\n",
       "      <td>0</td>\n",
       "      <td>1</td>\n",
       "      <td>0.043522</td>\n",
       "    </tr>\n",
       "    <tr>\n",
       "      <td>1</td>\n",
       "      <td>2</td>\n",
       "      <td>0.043522</td>\n",
       "    </tr>\n",
       "    <tr>\n",
       "      <td>2</td>\n",
       "      <td>3</td>\n",
       "      <td>0.043522</td>\n",
       "    </tr>\n",
       "    <tr>\n",
       "      <td>3</td>\n",
       "      <td>4</td>\n",
       "      <td>0.043522</td>\n",
       "    </tr>\n",
       "    <tr>\n",
       "      <td>4</td>\n",
       "      <td>5</td>\n",
       "      <td>0.043522</td>\n",
       "    </tr>\n",
       "    <tr>\n",
       "      <td>5</td>\n",
       "      <td>6</td>\n",
       "      <td>0.043522</td>\n",
       "    </tr>\n",
       "    <tr>\n",
       "      <td>6</td>\n",
       "      <td>7</td>\n",
       "      <td>0.043522</td>\n",
       "    </tr>\n",
       "    <tr>\n",
       "      <td>7</td>\n",
       "      <td>8</td>\n",
       "      <td>0.043522</td>\n",
       "    </tr>\n",
       "    <tr>\n",
       "      <td>8</td>\n",
       "      <td>9</td>\n",
       "      <td>0.043522</td>\n",
       "    </tr>\n",
       "    <tr>\n",
       "      <td>9</td>\n",
       "      <td>10</td>\n",
       "      <td>0.043522</td>\n",
       "    </tr>\n",
       "    <tr>\n",
       "      <td>10</td>\n",
       "      <td>11</td>\n",
       "      <td>0.043522</td>\n",
       "    </tr>\n",
       "    <tr>\n",
       "      <td>11</td>\n",
       "      <td>12</td>\n",
       "      <td>0.043522</td>\n",
       "    </tr>\n",
       "    <tr>\n",
       "      <td>12</td>\n",
       "      <td>13</td>\n",
       "      <td>0.043522</td>\n",
       "    </tr>\n",
       "    <tr>\n",
       "      <td>13</td>\n",
       "      <td>14</td>\n",
       "      <td>0.043522</td>\n",
       "    </tr>\n",
       "  </tbody>\n",
       "</table>\n",
       "</div>"
      ],
      "text/plain": [
       "    Estimators       B.E\n",
       "0            1  0.043522\n",
       "1            2  0.043522\n",
       "2            3  0.043522\n",
       "3            4  0.043522\n",
       "4            5  0.043522\n",
       "5            6  0.043522\n",
       "6            7  0.043522\n",
       "7            8  0.043522\n",
       "8            9  0.043522\n",
       "9           10  0.043522\n",
       "10          11  0.043522\n",
       "11          12  0.043522\n",
       "12          13  0.043522\n",
       "13          14  0.043522"
      ]
     },
     "execution_count": 90,
     "metadata": {},
     "output_type": "execute_result"
    }
   ],
   "source": [
    "GBC_reg"
   ]
  },
  {
   "cell_type": "code",
   "execution_count": 91,
   "metadata": {},
   "outputs": [
    {
     "data": {
      "text/html": [
       "<div>\n",
       "<style scoped>\n",
       "    .dataframe tbody tr th:only-of-type {\n",
       "        vertical-align: middle;\n",
       "    }\n",
       "\n",
       "    .dataframe tbody tr th {\n",
       "        vertical-align: top;\n",
       "    }\n",
       "\n",
       "    .dataframe thead th {\n",
       "        text-align: right;\n",
       "    }\n",
       "</style>\n",
       "<table border=\"1\" class=\"dataframe\">\n",
       "  <thead>\n",
       "    <tr style=\"text-align: right;\">\n",
       "      <th></th>\n",
       "      <th>Estimators</th>\n",
       "      <th>B.E</th>\n",
       "    </tr>\n",
       "  </thead>\n",
       "  <tbody>\n",
       "    <tr>\n",
       "      <td>0</td>\n",
       "      <td>1</td>\n",
       "      <td>0.531818</td>\n",
       "    </tr>\n",
       "    <tr>\n",
       "      <td>1</td>\n",
       "      <td>2</td>\n",
       "      <td>0.360860</td>\n",
       "    </tr>\n",
       "    <tr>\n",
       "      <td>2</td>\n",
       "      <td>3</td>\n",
       "      <td>0.318950</td>\n",
       "    </tr>\n",
       "    <tr>\n",
       "      <td>3</td>\n",
       "      <td>4</td>\n",
       "      <td>0.322287</td>\n",
       "    </tr>\n",
       "    <tr>\n",
       "      <td>4</td>\n",
       "      <td>5</td>\n",
       "      <td>0.287453</td>\n",
       "    </tr>\n",
       "    <tr>\n",
       "      <td>5</td>\n",
       "      <td>6</td>\n",
       "      <td>0.280534</td>\n",
       "    </tr>\n",
       "    <tr>\n",
       "      <td>6</td>\n",
       "      <td>7</td>\n",
       "      <td>0.269470</td>\n",
       "    </tr>\n",
       "    <tr>\n",
       "      <td>7</td>\n",
       "      <td>8</td>\n",
       "      <td>0.273017</td>\n",
       "    </tr>\n",
       "    <tr>\n",
       "      <td>8</td>\n",
       "      <td>9</td>\n",
       "      <td>0.262001</td>\n",
       "    </tr>\n",
       "    <tr>\n",
       "      <td>9</td>\n",
       "      <td>10</td>\n",
       "      <td>0.250218</td>\n",
       "    </tr>\n",
       "    <tr>\n",
       "      <td>10</td>\n",
       "      <td>11</td>\n",
       "      <td>0.247869</td>\n",
       "    </tr>\n",
       "    <tr>\n",
       "      <td>11</td>\n",
       "      <td>12</td>\n",
       "      <td>0.244900</td>\n",
       "    </tr>\n",
       "    <tr>\n",
       "      <td>12</td>\n",
       "      <td>13</td>\n",
       "      <td>0.246171</td>\n",
       "    </tr>\n",
       "    <tr>\n",
       "      <td>13</td>\n",
       "      <td>14</td>\n",
       "      <td>0.249341</td>\n",
       "    </tr>\n",
       "  </tbody>\n",
       "</table>\n",
       "</div>"
      ],
      "text/plain": [
       "    Estimators       B.E\n",
       "0            1  0.531818\n",
       "1            2  0.360860\n",
       "2            3  0.318950\n",
       "3            4  0.322287\n",
       "4            5  0.287453\n",
       "5            6  0.280534\n",
       "6            7  0.269470\n",
       "7            8  0.273017\n",
       "8            9  0.262001\n",
       "9           10  0.250218\n",
       "10          11  0.247869\n",
       "11          12  0.244900\n",
       "12          13  0.246171\n",
       "13          14  0.249341"
      ]
     },
     "execution_count": 91,
     "metadata": {},
     "output_type": "execute_result"
    }
   ],
   "source": [
    "GBC_bias"
   ]
  },
  {
   "cell_type": "code",
   "execution_count": 92,
   "metadata": {},
   "outputs": [
    {
     "data": {
      "text/plain": [
       "<matplotlib.axes._subplots.AxesSubplot at 0x2601b884ba8>"
      ]
     },
     "execution_count": 92,
     "metadata": {},
     "output_type": "execute_result"
    },
    {
     "data": {
      "image/png": "[encoded data removed]",
      "text/plain": [
       "<Figure size 432x288 with 1 Axes>"
      ]
     },
     "metadata": {
      "needs_background": "light"
     },
     "output_type": "display_data"
    }
   ],
   "source": [
    "sns.scatterplot(x=\"Estimators\", y=\"B.E\", data=GBC_bias)"
   ]
  },
  {
   "cell_type": "code",
   "execution_count": 93,
   "metadata": {},
   "outputs": [
    {
     "data": {
      "text/plain": [
       "<matplotlib.axes._subplots.AxesSubplot at 0x2601b8b7b70>"
      ]
     },
     "execution_count": 93,
     "metadata": {},
     "output_type": "execute_result"
    },
    {
     "data": {
      "image/png": "[encoded data removed]",
      "text/plain": [
       "<Figure size 432x288 with 1 Axes>"
      ]
     },
     "metadata": {
      "needs_background": "light"
     },
     "output_type": "display_data"
    }
   ],
   "source": [
    "sns.scatterplot(x=\"Estimators\", y=\"B.E\", data=GBC_reg)"
   ]
  },
  {
   "cell_type": "code",
   "execution_count": 94,
   "metadata": {},
   "outputs": [
    {
     "data": {
      "text/plain": [
       "0.2449001711171589"
      ]
     },
     "execution_count": 94,
     "metadata": {},
     "output_type": "execute_result"
    }
   ],
   "source": [
    " GBC_bias['B.E'].min()"
   ]
  },
  {
   "cell_type": "code",
   "execution_count": 95,
   "metadata": {},
   "outputs": [
    {
     "data": {
      "text/html": [
       "<div>\n",
       "<style scoped>\n",
       "    .dataframe tbody tr th:only-of-type {\n",
       "        vertical-align: middle;\n",
       "    }\n",
       "\n",
       "    .dataframe tbody tr th {\n",
       "        vertical-align: top;\n",
       "    }\n",
       "\n",
       "    .dataframe thead th {\n",
       "        text-align: right;\n",
       "    }\n",
       "</style>\n",
       "<table border=\"1\" class=\"dataframe\">\n",
       "  <thead>\n",
       "    <tr style=\"text-align: right;\">\n",
       "      <th></th>\n",
       "      <th>Estimators</th>\n",
       "      <th>B.E</th>\n",
       "    </tr>\n",
       "  </thead>\n",
       "  <tbody>\n",
       "    <tr>\n",
       "      <td>11</td>\n",
       "      <td>12</td>\n",
       "      <td>0.2449</td>\n",
       "    </tr>\n",
       "  </tbody>\n",
       "</table>\n",
       "</div>"
      ],
      "text/plain": [
       "    Estimators     B.E\n",
       "11          12  0.2449"
      ]
     },
     "execution_count": 95,
     "metadata": {},
     "output_type": "execute_result"
    }
   ],
   "source": [
    "GBC_bias[GBC_bias['B.E']== GBC_bias['B.E'].min()]"
   ]
  },
  {
   "cell_type": "code",
   "execution_count": 96,
   "metadata": {},
   "outputs": [
    {
     "data": {
      "text/html": [
       "<div>\n",
       "<style scoped>\n",
       "    .dataframe tbody tr th:only-of-type {\n",
       "        vertical-align: middle;\n",
       "    }\n",
       "\n",
       "    .dataframe tbody tr th {\n",
       "        vertical-align: top;\n",
       "    }\n",
       "\n",
       "    .dataframe thead th {\n",
       "        text-align: right;\n",
       "    }\n",
       "</style>\n",
       "<table border=\"1\" class=\"dataframe\">\n",
       "  <thead>\n",
       "    <tr style=\"text-align: right;\">\n",
       "      <th></th>\n",
       "      <th>Estimators</th>\n",
       "      <th>B.E</th>\n",
       "    </tr>\n",
       "  </thead>\n",
       "  <tbody>\n",
       "    <tr>\n",
       "      <td>0</td>\n",
       "      <td>1</td>\n",
       "      <td>0.043522</td>\n",
       "    </tr>\n",
       "    <tr>\n",
       "      <td>1</td>\n",
       "      <td>2</td>\n",
       "      <td>0.043522</td>\n",
       "    </tr>\n",
       "    <tr>\n",
       "      <td>2</td>\n",
       "      <td>3</td>\n",
       "      <td>0.043522</td>\n",
       "    </tr>\n",
       "    <tr>\n",
       "      <td>3</td>\n",
       "      <td>4</td>\n",
       "      <td>0.043522</td>\n",
       "    </tr>\n",
       "    <tr>\n",
       "      <td>4</td>\n",
       "      <td>5</td>\n",
       "      <td>0.043522</td>\n",
       "    </tr>\n",
       "    <tr>\n",
       "      <td>5</td>\n",
       "      <td>6</td>\n",
       "      <td>0.043522</td>\n",
       "    </tr>\n",
       "    <tr>\n",
       "      <td>6</td>\n",
       "      <td>7</td>\n",
       "      <td>0.043522</td>\n",
       "    </tr>\n",
       "    <tr>\n",
       "      <td>7</td>\n",
       "      <td>8</td>\n",
       "      <td>0.043522</td>\n",
       "    </tr>\n",
       "    <tr>\n",
       "      <td>8</td>\n",
       "      <td>9</td>\n",
       "      <td>0.043522</td>\n",
       "    </tr>\n",
       "    <tr>\n",
       "      <td>9</td>\n",
       "      <td>10</td>\n",
       "      <td>0.043522</td>\n",
       "    </tr>\n",
       "    <tr>\n",
       "      <td>10</td>\n",
       "      <td>11</td>\n",
       "      <td>0.043522</td>\n",
       "    </tr>\n",
       "    <tr>\n",
       "      <td>11</td>\n",
       "      <td>12</td>\n",
       "      <td>0.043522</td>\n",
       "    </tr>\n",
       "    <tr>\n",
       "      <td>12</td>\n",
       "      <td>13</td>\n",
       "      <td>0.043522</td>\n",
       "    </tr>\n",
       "    <tr>\n",
       "      <td>13</td>\n",
       "      <td>14</td>\n",
       "      <td>0.043522</td>\n",
       "    </tr>\n",
       "  </tbody>\n",
       "</table>\n",
       "</div>"
      ],
      "text/plain": [
       "    Estimators       B.E\n",
       "0            1  0.043522\n",
       "1            2  0.043522\n",
       "2            3  0.043522\n",
       "3            4  0.043522\n",
       "4            5  0.043522\n",
       "5            6  0.043522\n",
       "6            7  0.043522\n",
       "7            8  0.043522\n",
       "8            9  0.043522\n",
       "9           10  0.043522\n",
       "10          11  0.043522\n",
       "11          12  0.043522\n",
       "12          13  0.043522\n",
       "13          14  0.043522"
      ]
     },
     "execution_count": 96,
     "metadata": {},
     "output_type": "execute_result"
    }
   ],
   "source": [
    "GBC_reg[GBC_reg['B.E']== GBC_reg['B.E'].min()]"
   ]
  },
  {
   "cell_type": "markdown",
   "metadata": {},
   "source": [
    "Since variance error does not vary much we can focus on the bias error, which shows minimum when the estimators is equal to 12"
   ]
  },
  {
   "cell_type": "code",
   "execution_count": 97,
   "metadata": {},
   "outputs": [],
   "source": [
    "regressor=RandomForestRegressor(n_estimators=12,random_state=0)\n",
    "kfold=model_selection.KFold(shuffle=True,n_splits=5,random_state=7)\n",
    "CV_results=model_selection.cross_val_score(regressor,X,y,cv=kfold,scoring=\"r2\")"
   ]
  },
  {
   "cell_type": "code",
   "execution_count": 123,
   "metadata": {},
   "outputs": [
    {
     "data": {
      "text/plain": [
       "0.8699254220873553"
      ]
     },
     "execution_count": 123,
     "metadata": {},
     "output_type": "execute_result"
    }
   ],
   "source": [
    "CV_results.mean()"
   ]
  },
  {
   "cell_type": "code",
   "execution_count": 82,
   "metadata": {},
   "outputs": [
    {
     "name": "stdout",
     "output_type": "stream",
     "text": [
      "<class 'pandas.core.frame.DataFrame'>\n",
      "RangeIndex: 549132 entries, 0 to 549131\n",
      "Data columns (total 12 columns):\n",
      "fr_orig        549132 non-null float64\n",
      "dms_origst     549132 non-null int64\n",
      "dms_destst     549132 non-null int64\n",
      "fr_dest        549132 non-null float64\n",
      "fr_inmode      549132 non-null float64\n",
      "dms_mode       549132 non-null int64\n",
      "fr_outmode     549132 non-null float64\n",
      "sctg2          549132 non-null int64\n",
      "trade_type     549132 non-null int64\n",
      "value_2012     549132 non-null float64\n",
      "tons_2012      549132 non-null float64\n",
      "tmiles_2012    549132 non-null float64\n",
      "dtypes: float64(7), int64(5)\n",
      "memory usage: 50.3 MB\n"
     ]
    }
   ],
   "source": [
    "df_faf2012.info()"
   ]
  },
  {
   "cell_type": "code",
   "execution_count": null,
   "metadata": {},
   "outputs": [],
   "source": []
  }
 ],
 "metadata": {
  "kernelspec": {
   "display_name": "Python 3",
   "language": "python",
   "name": "python3"
  },
  "language_info": {
   "codemirror_mode": {
    "name": "ipython",
    "version": 3
   },
   "file_extension": ".py",
   "mimetype": "text/x-python",
   "name": "python",
   "nbconvert_exporter": "python",
   "pygments_lexer": "ipython3",
   "version": "3.7.3"
  }
 },
 "nbformat": 4,
 "nbformat_minor": 2
}
