{
 "cells": [
  {
   "cell_type": "code",
   "execution_count": 1,
   "metadata": {},
   "outputs": [],
   "source": [
    "import numpy as np\n",
    "import pandas as pd"
   ]
  },
  {
   "cell_type": "code",
   "execution_count": 2,
   "metadata": {},
   "outputs": [],
   "source": [
    "df_faf2012=pd.read_csv(\"faf35_provisional_2012_state.csv\")"
   ]
  },
  {
   "cell_type": "code",
   "execution_count": 3,
   "metadata": {},
   "outputs": [],
   "source": [
    "df_faf2012=df_faf2012.drop([\"curval_2012\"],axis=1)\n"
   ]
  },
  {
   "cell_type": "code",
   "execution_count": 4,
   "metadata": {},
   "outputs": [
    {
     "data": {
      "text/plain": [
       "(549132, 12)"
      ]
     },
     "execution_count": 4,
     "metadata": {},
     "output_type": "execute_result"
    }
   ],
   "source": [
    "df_faf2012.shape"
   ]
  },
  {
   "cell_type": "code",
   "execution_count": 5,
   "metadata": {},
   "outputs": [],
   "source": [
    "df_faf2012=df_faf2012[df_faf2012['value_2012']!=0]"
   ]
  },
  {
   "cell_type": "code",
   "execution_count": 6,
   "metadata": {},
   "outputs": [
    {
     "data": {
      "text/plain": [
       "(501231, 12)"
      ]
     },
     "execution_count": 6,
     "metadata": {},
     "output_type": "execute_result"
    }
   ],
   "source": [
    "df_faf2012.shape"
   ]
  },
  {
   "cell_type": "code",
   "execution_count": 7,
   "metadata": {},
   "outputs": [
    {
     "data": {
      "text/html": [
       "<div>\n",
       "<style scoped>\n",
       "    .dataframe tbody tr th:only-of-type {\n",
       "        vertical-align: middle;\n",
       "    }\n",
       "\n",
       "    .dataframe tbody tr th {\n",
       "        vertical-align: top;\n",
       "    }\n",
       "\n",
       "    .dataframe thead th {\n",
       "        text-align: right;\n",
       "    }\n",
       "</style>\n",
       "<table border=\"1\" class=\"dataframe\">\n",
       "  <thead>\n",
       "    <tr style=\"text-align: right;\">\n",
       "      <th></th>\n",
       "      <th>fr_orig</th>\n",
       "      <th>dms_origst</th>\n",
       "      <th>dms_destst</th>\n",
       "      <th>fr_dest</th>\n",
       "      <th>fr_inmode</th>\n",
       "      <th>dms_mode</th>\n",
       "      <th>fr_outmode</th>\n",
       "      <th>sctg2</th>\n",
       "      <th>trade_type</th>\n",
       "      <th>value_2012</th>\n",
       "      <th>tons_2012</th>\n",
       "      <th>tmiles_2012</th>\n",
       "    </tr>\n",
       "  </thead>\n",
       "  <tbody>\n",
       "    <tr>\n",
       "      <td>0</td>\n",
       "      <td>801.0</td>\n",
       "      <td>6</td>\n",
       "      <td>6</td>\n",
       "      <td>801.0</td>\n",
       "      <td>3.0</td>\n",
       "      <td>1</td>\n",
       "      <td>3.0</td>\n",
       "      <td>34</td>\n",
       "      <td>2</td>\n",
       "      <td>0.0001</td>\n",
       "      <td>0.0</td>\n",
       "      <td>0.0</td>\n",
       "    </tr>\n",
       "  </tbody>\n",
       "</table>\n",
       "</div>"
      ],
      "text/plain": [
       "   fr_orig  dms_origst  dms_destst  fr_dest  fr_inmode  dms_mode  fr_outmode  \\\n",
       "0    801.0           6           6    801.0        3.0         1         3.0   \n",
       "\n",
       "   sctg2  trade_type  value_2012  tons_2012  tmiles_2012  \n",
       "0     34           2      0.0001        0.0          0.0  "
      ]
     },
     "execution_count": 7,
     "metadata": {},
     "output_type": "execute_result"
    }
   ],
   "source": [
    "df_faf2012.mode()"
   ]
  },
  {
   "cell_type": "markdown",
   "metadata": {},
   "source": [
    "Most DOmestically produced goods-California\n",
    "Domestic DOnation Goods - California\n",
    "MOst Foreign Imports COuntry-  CANADA\n",
    "Most Foreign EXports Country - CANADA\n",
    "Domestic MODE Preffered- Truck\n",
    "fr_inmode,fr_outmode-Water\n",
    "Commodity which gets exported/imported most-Machinery\n"
   ]
  },
  {
   "cell_type": "code",
   "execution_count": 8,
   "metadata": {},
   "outputs": [],
   "source": [
    "df_faf2012=df_faf2012.fillna(0)"
   ]
  },
  {
   "cell_type": "code",
   "execution_count": 9,
   "metadata": {},
   "outputs": [],
   "source": [
    "df_faf2012_F=df_faf2012.iloc[:,0:9]"
   ]
  },
  {
   "cell_type": "code",
   "execution_count": 10,
   "metadata": {},
   "outputs": [],
   "source": [
    "df_faf2012_Transform=df_faf2012[[\"value_2012\",\"tons_2012\",\"tmiles_2012\"]]"
   ]
  },
  {
   "cell_type": "code",
   "execution_count": 11,
   "metadata": {},
   "outputs": [],
   "source": [
    "df_faf2012_Transform=df_faf2012_Transform.transform(func = ['sqrt'])"
   ]
  },
  {
   "cell_type": "code",
   "execution_count": 12,
   "metadata": {},
   "outputs": [],
   "source": [
    "df_faf2012_Transform=pd.concat([df_faf2012_F,df_faf2012_Transform],axis=1)"
   ]
  },
  {
   "cell_type": "code",
   "execution_count": 13,
   "metadata": {},
   "outputs": [
    {
     "data": {
      "text/html": [
       "<div>\n",
       "<style scoped>\n",
       "    .dataframe tbody tr th:only-of-type {\n",
       "        vertical-align: middle;\n",
       "    }\n",
       "\n",
       "    .dataframe tbody tr th {\n",
       "        vertical-align: top;\n",
       "    }\n",
       "\n",
       "    .dataframe thead th {\n",
       "        text-align: right;\n",
       "    }\n",
       "</style>\n",
       "<table border=\"1\" class=\"dataframe\">\n",
       "  <thead>\n",
       "    <tr style=\"text-align: right;\">\n",
       "      <th></th>\n",
       "      <th>fr_orig</th>\n",
       "      <th>dms_origst</th>\n",
       "      <th>dms_destst</th>\n",
       "      <th>fr_dest</th>\n",
       "      <th>fr_inmode</th>\n",
       "      <th>dms_mode</th>\n",
       "      <th>fr_outmode</th>\n",
       "      <th>sctg2</th>\n",
       "      <th>trade_type</th>\n",
       "      <th>(value_2012, sqrt)</th>\n",
       "      <th>(tons_2012, sqrt)</th>\n",
       "      <th>(tmiles_2012, sqrt)</th>\n",
       "    </tr>\n",
       "  </thead>\n",
       "  <tbody>\n",
       "    <tr>\n",
       "      <td>0</td>\n",
       "      <td>0.0</td>\n",
       "      <td>1</td>\n",
       "      <td>1</td>\n",
       "      <td>0.0</td>\n",
       "      <td>0.0</td>\n",
       "      <td>1</td>\n",
       "      <td>0.0</td>\n",
       "      <td>1</td>\n",
       "      <td>1</td>\n",
       "      <td>36.033584</td>\n",
       "      <td>34.729116</td>\n",
       "      <td>10.964678</td>\n",
       "    </tr>\n",
       "    <tr>\n",
       "      <td>1</td>\n",
       "      <td>0.0</td>\n",
       "      <td>1</td>\n",
       "      <td>1</td>\n",
       "      <td>0.0</td>\n",
       "      <td>0.0</td>\n",
       "      <td>1</td>\n",
       "      <td>0.0</td>\n",
       "      <td>2</td>\n",
       "      <td>1</td>\n",
       "      <td>22.043666</td>\n",
       "      <td>50.602931</td>\n",
       "      <td>15.485686</td>\n",
       "    </tr>\n",
       "    <tr>\n",
       "      <td>2</td>\n",
       "      <td>0.0</td>\n",
       "      <td>1</td>\n",
       "      <td>1</td>\n",
       "      <td>0.0</td>\n",
       "      <td>0.0</td>\n",
       "      <td>1</td>\n",
       "      <td>0.0</td>\n",
       "      <td>3</td>\n",
       "      <td>1</td>\n",
       "      <td>32.115590</td>\n",
       "      <td>52.907020</td>\n",
       "      <td>15.447254</td>\n",
       "    </tr>\n",
       "    <tr>\n",
       "      <td>3</td>\n",
       "      <td>0.0</td>\n",
       "      <td>1</td>\n",
       "      <td>1</td>\n",
       "      <td>0.0</td>\n",
       "      <td>0.0</td>\n",
       "      <td>1</td>\n",
       "      <td>0.0</td>\n",
       "      <td>4</td>\n",
       "      <td>1</td>\n",
       "      <td>27.444313</td>\n",
       "      <td>55.639712</td>\n",
       "      <td>16.641353</td>\n",
       "    </tr>\n",
       "    <tr>\n",
       "      <td>4</td>\n",
       "      <td>0.0</td>\n",
       "      <td>1</td>\n",
       "      <td>1</td>\n",
       "      <td>0.0</td>\n",
       "      <td>0.0</td>\n",
       "      <td>1</td>\n",
       "      <td>0.0</td>\n",
       "      <td>5</td>\n",
       "      <td>1</td>\n",
       "      <td>46.159158</td>\n",
       "      <td>30.195124</td>\n",
       "      <td>8.189547</td>\n",
       "    </tr>\n",
       "    <tr>\n",
       "      <td>...</td>\n",
       "      <td>...</td>\n",
       "      <td>...</td>\n",
       "      <td>...</td>\n",
       "      <td>...</td>\n",
       "      <td>...</td>\n",
       "      <td>...</td>\n",
       "      <td>...</td>\n",
       "      <td>...</td>\n",
       "      <td>...</td>\n",
       "      <td>...</td>\n",
       "      <td>...</td>\n",
       "      <td>...</td>\n",
       "    </tr>\n",
       "    <tr>\n",
       "      <td>549127</td>\n",
       "      <td>808.0</td>\n",
       "      <td>53</td>\n",
       "      <td>56</td>\n",
       "      <td>0.0</td>\n",
       "      <td>5.0</td>\n",
       "      <td>1</td>\n",
       "      <td>0.0</td>\n",
       "      <td>26</td>\n",
       "      <td>2</td>\n",
       "      <td>0.044721</td>\n",
       "      <td>0.020000</td>\n",
       "      <td>0.019901</td>\n",
       "    </tr>\n",
       "    <tr>\n",
       "      <td>549128</td>\n",
       "      <td>808.0</td>\n",
       "      <td>53</td>\n",
       "      <td>56</td>\n",
       "      <td>0.0</td>\n",
       "      <td>5.0</td>\n",
       "      <td>1</td>\n",
       "      <td>0.0</td>\n",
       "      <td>30</td>\n",
       "      <td>2</td>\n",
       "      <td>0.050000</td>\n",
       "      <td>0.010000</td>\n",
       "      <td>0.009940</td>\n",
       "    </tr>\n",
       "    <tr>\n",
       "      <td>549129</td>\n",
       "      <td>808.0</td>\n",
       "      <td>53</td>\n",
       "      <td>56</td>\n",
       "      <td>0.0</td>\n",
       "      <td>5.0</td>\n",
       "      <td>1</td>\n",
       "      <td>0.0</td>\n",
       "      <td>33</td>\n",
       "      <td>2</td>\n",
       "      <td>0.063246</td>\n",
       "      <td>0.043589</td>\n",
       "      <td>0.043388</td>\n",
       "    </tr>\n",
       "    <tr>\n",
       "      <td>549130</td>\n",
       "      <td>808.0</td>\n",
       "      <td>53</td>\n",
       "      <td>56</td>\n",
       "      <td>0.0</td>\n",
       "      <td>5.0</td>\n",
       "      <td>1</td>\n",
       "      <td>0.0</td>\n",
       "      <td>34</td>\n",
       "      <td>2</td>\n",
       "      <td>0.432319</td>\n",
       "      <td>0.186279</td>\n",
       "      <td>0.183264</td>\n",
       "    </tr>\n",
       "    <tr>\n",
       "      <td>549131</td>\n",
       "      <td>808.0</td>\n",
       "      <td>53</td>\n",
       "      <td>56</td>\n",
       "      <td>0.0</td>\n",
       "      <td>5.0</td>\n",
       "      <td>1</td>\n",
       "      <td>0.0</td>\n",
       "      <td>39</td>\n",
       "      <td>2</td>\n",
       "      <td>0.045826</td>\n",
       "      <td>0.036056</td>\n",
       "      <td>0.035888</td>\n",
       "    </tr>\n",
       "  </tbody>\n",
       "</table>\n",
       "<p>501231 rows × 12 columns</p>\n",
       "</div>"
      ],
      "text/plain": [
       "        fr_orig  dms_origst  dms_destst  fr_dest  fr_inmode  dms_mode  \\\n",
       "0           0.0           1           1      0.0        0.0         1   \n",
       "1           0.0           1           1      0.0        0.0         1   \n",
       "2           0.0           1           1      0.0        0.0         1   \n",
       "3           0.0           1           1      0.0        0.0         1   \n",
       "4           0.0           1           1      0.0        0.0         1   \n",
       "...         ...         ...         ...      ...        ...       ...   \n",
       "549127    808.0          53          56      0.0        5.0         1   \n",
       "549128    808.0          53          56      0.0        5.0         1   \n",
       "549129    808.0          53          56      0.0        5.0         1   \n",
       "549130    808.0          53          56      0.0        5.0         1   \n",
       "549131    808.0          53          56      0.0        5.0         1   \n",
       "\n",
       "        fr_outmode  sctg2  trade_type  (value_2012, sqrt)  (tons_2012, sqrt)  \\\n",
       "0              0.0      1           1           36.033584          34.729116   \n",
       "1              0.0      2           1           22.043666          50.602931   \n",
       "2              0.0      3           1           32.115590          52.907020   \n",
       "3              0.0      4           1           27.444313          55.639712   \n",
       "4              0.0      5           1           46.159158          30.195124   \n",
       "...            ...    ...         ...                 ...                ...   \n",
       "549127         0.0     26           2            0.044721           0.020000   \n",
       "549128         0.0     30           2            0.050000           0.010000   \n",
       "549129         0.0     33           2            0.063246           0.043589   \n",
       "549130         0.0     34           2            0.432319           0.186279   \n",
       "549131         0.0     39           2            0.045826           0.036056   \n",
       "\n",
       "        (tmiles_2012, sqrt)  \n",
       "0                 10.964678  \n",
       "1                 15.485686  \n",
       "2                 15.447254  \n",
       "3                 16.641353  \n",
       "4                  8.189547  \n",
       "...                     ...  \n",
       "549127             0.019901  \n",
       "549128             0.009940  \n",
       "549129             0.043388  \n",
       "549130             0.183264  \n",
       "549131             0.035888  \n",
       "\n",
       "[501231 rows x 12 columns]"
      ]
     },
     "execution_count": 13,
     "metadata": {},
     "output_type": "execute_result"
    }
   ],
   "source": [
    "df_faf2012_Transform"
   ]
  },
  {
   "cell_type": "code",
   "execution_count": 14,
   "metadata": {},
   "outputs": [],
   "source": [
    "df_faf2012_Transform=df_faf2012_Transform.rename(columns={('value_2012', 'sqrt'): \"value_2012_sqrt\",('tons_2012', 'sqrt'):\"Tons_2012_sqrt\",('tmiles_2012', 'sqrt'):\"tmiles_2012_sqrt\"})\n",
    "import seaborn as sns"
   ]
  },
  {
   "cell_type": "code",
   "execution_count": 15,
   "metadata": {},
   "outputs": [],
   "source": [
    "#sns.pairplot(df_faf2012_Transform)"
   ]
  },
  {
   "cell_type": "code",
   "execution_count": 16,
   "metadata": {},
   "outputs": [],
   "source": [
    "import random\n",
    "df_faf2012_Trans_sample=df_faf2012_Transform.sample(n=50000)"
   ]
  },
  {
   "cell_type": "code",
   "execution_count": 17,
   "metadata": {},
   "outputs": [],
   "source": [
    "X=df_faf2012_Trans_sample.drop([\"value_2012_sqrt\"],axis=1)\n",
    "y=df_faf2012_Trans_sample[\"value_2012_sqrt\"]"
   ]
  },
  {
   "cell_type": "code",
   "execution_count": 18,
   "metadata": {},
   "outputs": [],
   "source": [
    "from sklearn.svm import SVR\n",
    "from sklearn.tree import DecisionTreeRegressor\n",
    "from sklearn.ensemble import RandomForestRegressor\n",
    "from sklearn.neighbors import KNeighborsRegressor"
   ]
  },
  {
   "cell_type": "code",
   "execution_count": 19,
   "metadata": {},
   "outputs": [],
   "source": [
    "models = []\n",
    "models.append(('KNN', KNeighborsRegressor()))\n",
    "models.append(('RF', RandomForestRegressor()))\n",
    "models.append(('SVR', SVR()))\n",
    "from sklearn import model_selection"
   ]
  },
  {
   "cell_type": "code",
   "execution_count": null,
   "metadata": {},
   "outputs": [],
   "source": [
    "names = []\n",
    "scores = []\n",
    "Bias_ERROR=[]\n",
    "VAR_ERROR=[]\n",
    "\n",
    "for name, model in models:\n",
    "    \n",
    "    kfold=model_selection.KFold(shuffle=True,n_splits=5,random_state=10)\n",
    "    CV_results=model_selection.cross_val_score(model,X,y,cv=kfold,scoring=\"r2\")\n",
    "    \n",
    "    names.append(name)\n",
    "    scores.append(CV_results.mean())\n",
    "    Bias_ERROR.append(1-CV_results.mean())\n",
    "    VAR_ERROR.append(np.std(CV_results,ddof=1))\n",
    "kf_cross_val = pd.DataFrame({'Name': names, 'Score': scores,\"AVG_BIAS ERROR\":Bias_ERROR,\"VAR_ERROR\":VAR_ERROR})\n"
   ]
  },
  {
   "cell_type": "code",
   "execution_count": null,
   "metadata": {},
   "outputs": [],
   "source": [
    "kf_cross_val"
   ]
  },
  {
   "cell_type": "code",
   "execution_count": null,
   "metadata": {},
   "outputs": [],
   "source": [
    "from sklearn.neighbors import KNeighborsRegressor\n"
   ]
  },
  {
   "cell_type": "code",
   "execution_count": null,
   "metadata": {},
   "outputs": [],
   "source": [
    "values=[]\n",
    "reg_bias=[]\n",
    "reg_var=[]\n",
    "for val in np.arange(1,101):\n",
    "    neigh = KNeighborsRegressor(n_neighbors=val)\n",
    "    kfold=model_selection.KFold(n_splits=15,shuffle=True,random_state=5)\n",
    "    cv_results=model_selection.cross_val_score(neigh,X,y,scoring=\"r2\",cv=kfold)\n",
    "    reg_bias.append(1-np.mean(cv_results))\n",
    "    reg_var.append(np.std(CV_results,ddof=1))\n",
    "    values.append(val)\n",
    "    \n",
    "GBC_bias=pd.DataFrame({\"Estimators\":values,\"B.E\":reg_bias})\n",
    "GBC_reg=pd.DataFrame({\"Estimators\":values,\"B.E\":reg_var})"
   ]
  },
  {
   "cell_type": "code",
   "execution_count": null,
   "metadata": {},
   "outputs": [],
   "source": []
  },
  {
   "cell_type": "code",
   "execution_count": null,
   "metadata": {},
   "outputs": [],
   "source": [
    "GBC_bias[GBC_bias[\"B.E\"]==GBC_bias[\"B.E\"].min()]"
   ]
  },
  {
   "cell_type": "code",
   "execution_count": null,
   "metadata": {},
   "outputs": [],
   "source": [
    "print(\"r2 score \",GBC_bias[\"B.E\"].min())"
   ]
  },
  {
   "cell_type": "code",
   "execution_count": null,
   "metadata": {},
   "outputs": [],
   "source": [
    "GBC_reg[GBC_reg[\"B.E\"]==GBC_reg[\"B.E\"].min()]"
   ]
  },
  {
   "cell_type": "code",
   "execution_count": 20,
   "metadata": {},
   "outputs": [
    {
     "data": {
      "text/html": [
       "<div>\n",
       "<style scoped>\n",
       "    .dataframe tbody tr th:only-of-type {\n",
       "        vertical-align: middle;\n",
       "    }\n",
       "\n",
       "    .dataframe tbody tr th {\n",
       "        vertical-align: top;\n",
       "    }\n",
       "\n",
       "    .dataframe thead th {\n",
       "        text-align: right;\n",
       "    }\n",
       "</style>\n",
       "<table border=\"1\" class=\"dataframe\">\n",
       "  <thead>\n",
       "    <tr style=\"text-align: right;\">\n",
       "      <th></th>\n",
       "      <th>vif</th>\n",
       "    </tr>\n",
       "  </thead>\n",
       "  <tbody>\n",
       "    <tr>\n",
       "      <td>value_2012_sqrt</td>\n",
       "      <td>2.020855</td>\n",
       "    </tr>\n",
       "    <tr>\n",
       "      <td>dms_mode</td>\n",
       "      <td>2.986112</td>\n",
       "    </tr>\n",
       "    <tr>\n",
       "      <td>tmiles_2012_sqrt</td>\n",
       "      <td>3.135927</td>\n",
       "    </tr>\n",
       "    <tr>\n",
       "      <td>Tons_2012_sqrt</td>\n",
       "      <td>3.516882</td>\n",
       "    </tr>\n",
       "    <tr>\n",
       "      <td>sctg2</td>\n",
       "      <td>4.495563</td>\n",
       "    </tr>\n",
       "    <tr>\n",
       "      <td>dms_destst</td>\n",
       "      <td>4.567696</td>\n",
       "    </tr>\n",
       "    <tr>\n",
       "      <td>dms_origst</td>\n",
       "      <td>4.721017</td>\n",
       "    </tr>\n",
       "    <tr>\n",
       "      <td>fr_inmode</td>\n",
       "      <td>7.605800</td>\n",
       "    </tr>\n",
       "    <tr>\n",
       "      <td>fr_outmode</td>\n",
       "      <td>8.993510</td>\n",
       "    </tr>\n",
       "    <tr>\n",
       "      <td>fr_orig</td>\n",
       "      <td>19.133915</td>\n",
       "    </tr>\n",
       "    <tr>\n",
       "      <td>fr_dest</td>\n",
       "      <td>41.561629</td>\n",
       "    </tr>\n",
       "    <tr>\n",
       "      <td>trade_type</td>\n",
       "      <td>81.350257</td>\n",
       "    </tr>\n",
       "  </tbody>\n",
       "</table>\n",
       "</div>"
      ],
      "text/plain": [
       "                        vif\n",
       "value_2012_sqrt    2.020855\n",
       "dms_mode           2.986112\n",
       "tmiles_2012_sqrt   3.135927\n",
       "Tons_2012_sqrt     3.516882\n",
       "sctg2              4.495563\n",
       "dms_destst         4.567696\n",
       "dms_origst         4.721017\n",
       "fr_inmode          7.605800\n",
       "fr_outmode         8.993510\n",
       "fr_orig           19.133915\n",
       "fr_dest           41.561629\n",
       "trade_type        81.350257"
      ]
     },
     "execution_count": 20,
     "metadata": {},
     "output_type": "execute_result"
    }
   ],
   "source": [
    "  from statsmodels.stats.outliers_influence import variance_inflation_factor\n",
    "\n",
    "vif = [variance_inflation_factor(df_faf2012_Transform.values, i) for i in range(df_faf2012_Transform.shape[1])]\n",
    "VIF_Housing=pd.DataFrame({'vif': vif}, index=df_faf2012_Transform.columns)\n",
    "VIF_Housing.sort_values(by='vif')"
   ]
  },
  {
   "cell_type": "code",
   "execution_count": 21,
   "metadata": {},
   "outputs": [],
   "source": [
    "df_faf2012_Transform=df_faf2012_Transform.drop([\"trade_type\"],axis=1)"
   ]
  },
  {
   "cell_type": "code",
   "execution_count": 22,
   "metadata": {},
   "outputs": [
    {
     "data": {
      "text/html": [
       "<div>\n",
       "<style scoped>\n",
       "    .dataframe tbody tr th:only-of-type {\n",
       "        vertical-align: middle;\n",
       "    }\n",
       "\n",
       "    .dataframe tbody tr th {\n",
       "        vertical-align: top;\n",
       "    }\n",
       "\n",
       "    .dataframe thead th {\n",
       "        text-align: right;\n",
       "    }\n",
       "</style>\n",
       "<table border=\"1\" class=\"dataframe\">\n",
       "  <thead>\n",
       "    <tr style=\"text-align: right;\">\n",
       "      <th></th>\n",
       "      <th>vif</th>\n",
       "    </tr>\n",
       "  </thead>\n",
       "  <tbody>\n",
       "    <tr>\n",
       "      <td>value_2012_sqrt</td>\n",
       "      <td>1.987771</td>\n",
       "    </tr>\n",
       "    <tr>\n",
       "      <td>dms_mode</td>\n",
       "      <td>2.548141</td>\n",
       "    </tr>\n",
       "    <tr>\n",
       "      <td>tmiles_2012_sqrt</td>\n",
       "      <td>3.074622</td>\n",
       "    </tr>\n",
       "    <tr>\n",
       "      <td>Tons_2012_sqrt</td>\n",
       "      <td>3.505069</td>\n",
       "    </tr>\n",
       "    <tr>\n",
       "      <td>sctg2</td>\n",
       "      <td>3.622993</td>\n",
       "    </tr>\n",
       "    <tr>\n",
       "      <td>dms_destst</td>\n",
       "      <td>3.706070</td>\n",
       "    </tr>\n",
       "    <tr>\n",
       "      <td>dms_origst</td>\n",
       "      <td>3.761348</td>\n",
       "    </tr>\n",
       "    <tr>\n",
       "      <td>fr_inmode</td>\n",
       "      <td>7.588966</td>\n",
       "    </tr>\n",
       "    <tr>\n",
       "      <td>fr_orig</td>\n",
       "      <td>8.433890</td>\n",
       "    </tr>\n",
       "    <tr>\n",
       "      <td>fr_outmode</td>\n",
       "      <td>8.880951</td>\n",
       "    </tr>\n",
       "    <tr>\n",
       "      <td>fr_dest</td>\n",
       "      <td>9.467894</td>\n",
       "    </tr>\n",
       "  </tbody>\n",
       "</table>\n",
       "</div>"
      ],
      "text/plain": [
       "                       vif\n",
       "value_2012_sqrt   1.987771\n",
       "dms_mode          2.548141\n",
       "tmiles_2012_sqrt  3.074622\n",
       "Tons_2012_sqrt    3.505069\n",
       "sctg2             3.622993\n",
       "dms_destst        3.706070\n",
       "dms_origst        3.761348\n",
       "fr_inmode         7.588966\n",
       "fr_orig           8.433890\n",
       "fr_outmode        8.880951\n",
       "fr_dest           9.467894"
      ]
     },
     "execution_count": 22,
     "metadata": {},
     "output_type": "execute_result"
    }
   ],
   "source": [
    "vif = [variance_inflation_factor(df_faf2012_Transform.values, i) for i in range(df_faf2012_Transform.shape[1])]\n",
    "VIF_Housing=pd.DataFrame({'vif': vif}, index=df_faf2012_Transform.columns)\n",
    "VIF_Housing.sort_values(by='vif')"
   ]
  },
  {
   "cell_type": "code",
   "execution_count": 23,
   "metadata": {},
   "outputs": [
    {
     "data": {
      "text/html": [
       "<div>\n",
       "<style scoped>\n",
       "    .dataframe tbody tr th:only-of-type {\n",
       "        vertical-align: middle;\n",
       "    }\n",
       "\n",
       "    .dataframe tbody tr th {\n",
       "        vertical-align: top;\n",
       "    }\n",
       "\n",
       "    .dataframe thead th {\n",
       "        text-align: right;\n",
       "    }\n",
       "</style>\n",
       "<table border=\"1\" class=\"dataframe\">\n",
       "  <thead>\n",
       "    <tr style=\"text-align: right;\">\n",
       "      <th></th>\n",
       "      <th>vif</th>\n",
       "    </tr>\n",
       "  </thead>\n",
       "  <tbody>\n",
       "    <tr>\n",
       "      <td>fr_outmode</td>\n",
       "      <td>1.856300</td>\n",
       "    </tr>\n",
       "    <tr>\n",
       "      <td>value_2012_sqrt</td>\n",
       "      <td>1.980897</td>\n",
       "    </tr>\n",
       "    <tr>\n",
       "      <td>dms_mode</td>\n",
       "      <td>2.503938</td>\n",
       "    </tr>\n",
       "    <tr>\n",
       "      <td>tmiles_2012_sqrt</td>\n",
       "      <td>3.074101</td>\n",
       "    </tr>\n",
       "    <tr>\n",
       "      <td>Tons_2012_sqrt</td>\n",
       "      <td>3.505057</td>\n",
       "    </tr>\n",
       "    <tr>\n",
       "      <td>sctg2</td>\n",
       "      <td>3.581581</td>\n",
       "    </tr>\n",
       "    <tr>\n",
       "      <td>dms_destst</td>\n",
       "      <td>3.635536</td>\n",
       "    </tr>\n",
       "    <tr>\n",
       "      <td>dms_origst</td>\n",
       "      <td>3.701084</td>\n",
       "    </tr>\n",
       "    <tr>\n",
       "      <td>fr_inmode</td>\n",
       "      <td>7.588951</td>\n",
       "    </tr>\n",
       "    <tr>\n",
       "      <td>fr_orig</td>\n",
       "      <td>8.356319</td>\n",
       "    </tr>\n",
       "  </tbody>\n",
       "</table>\n",
       "</div>"
      ],
      "text/plain": [
       "                       vif\n",
       "fr_outmode        1.856300\n",
       "value_2012_sqrt   1.980897\n",
       "dms_mode          2.503938\n",
       "tmiles_2012_sqrt  3.074101\n",
       "Tons_2012_sqrt    3.505057\n",
       "sctg2             3.581581\n",
       "dms_destst        3.635536\n",
       "dms_origst        3.701084\n",
       "fr_inmode         7.588951\n",
       "fr_orig           8.356319"
      ]
     },
     "execution_count": 23,
     "metadata": {},
     "output_type": "execute_result"
    }
   ],
   "source": [
    "df_faf2012_Transform=df_faf2012_Transform.drop([\"fr_dest\"],axis=1)\n",
    "vif = [variance_inflation_factor(df_faf2012_Transform.values, i) for i in range(df_faf2012_Transform.shape[1])]\n",
    "VIF_Housing=pd.DataFrame({'vif': vif}, index=df_faf2012_Transform.columns)\n",
    "VIF_Housing.sort_values(by='vif')"
   ]
  },
  {
   "cell_type": "code",
   "execution_count": 24,
   "metadata": {},
   "outputs": [],
   "source": [
    "X=df_faf2012_Transform.drop([\"value_2012_sqrt\"],axis=1)\n",
    "y=df_faf2012_Transform[\"value_2012_sqrt\"]"
   ]
  },
  {
   "cell_type": "code",
   "execution_count": 25,
   "metadata": {},
   "outputs": [],
   "source": [
    "from sklearn.ensemble import AdaBoostRegressor\n",
    "regressor=RandomForestRegressor(n_estimators=12,random_state=0)"
   ]
  },
  {
   "cell_type": "code",
   "execution_count": null,
   "metadata": {},
   "outputs": [],
   "source": [
    "from sklearn.ensemble import AdaBoostRegressor\n",
    "values=[]\n",
    "ADA_BIAS=[]\n",
    "ADA_VAR=[]\n",
    "ADA=AdaBoostRegressor(base_estimator=regressor,n_estimators=20,random_state=0)\n",
    "kfold=model_selection.KFold(n_splits=5,shuffle=True,random_state=5)\n",
    "cv_results=model_selection.cross_val_score(ADA,X,y,scoring=\"r2\",cv=kfold)\n",
    "ADA_BIAS.append(1-np.mean(cv_results))\n",
    "ADA_VAR.append(np.std(cv_results,ddof=1))\n",
    "\n",
    "    \n",
    "ADA_BOOST=pd.DataFrame({\"R_2 score\":np.mean(cv_results),\"B.E\":ADA_BIAS,\"V.E\":ADA_VAR})"
   ]
  },
  {
   "cell_type": "code",
   "execution_count": 1,
   "metadata": {},
   "outputs": [
    {
     "ename": "NameError",
     "evalue": "name 'ADA_BOOST' is not defined",
     "output_type": "error",
     "traceback": [
      "\u001b[1;31m---------------------------------------------------------------------------\u001b[0m",
      "\u001b[1;31mNameError\u001b[0m                                 Traceback (most recent call last)",
      "\u001b[1;32m<ipython-input-1-0b94a69af8b8>\u001b[0m in \u001b[0;36m<module>\u001b[1;34m\u001b[0m\n\u001b[1;32m----> 1\u001b[1;33m \u001b[0mADA_BOOST\u001b[0m\u001b[1;33m\u001b[0m\u001b[1;33m\u001b[0m\u001b[0m\n\u001b[0m",
      "\u001b[1;31mNameError\u001b[0m: name 'ADA_BOOST' is not defined"
     ]
    }
   ],
   "source": []
  },
  {
   "cell_type": "code",
   "execution_count": 2,
   "metadata": {},
   "outputs": [
    {
     "ename": "NameError",
     "evalue": "name 'df_faf2012' is not defined",
     "output_type": "error",
     "traceback": [
      "\u001b[1;31m---------------------------------------------------------------------------\u001b[0m",
      "\u001b[1;31mNameError\u001b[0m                                 Traceback (most recent call last)",
      "\u001b[1;32m<ipython-input-2-a2bfd9207dc3>\u001b[0m in \u001b[0;36m<module>\u001b[1;34m\u001b[0m\n\u001b[1;32m----> 1\u001b[1;33m \u001b[0mdf_faf2012\u001b[0m\u001b[1;33m\u001b[0m\u001b[1;33m\u001b[0m\u001b[0m\n\u001b[0m",
      "\u001b[1;31mNameError\u001b[0m: name 'df_faf2012' is not defined"
     ]
    }
   ],
   "source": [
    "df_faf2012"
   ]
  },
  {
   "cell_type": "code",
   "execution_count": null,
   "metadata": {},
   "outputs": [],
   "source": []
  }
 ],
 "metadata": {
  "kernelspec": {
   "display_name": "Python 3",
   "language": "python",
   "name": "python3"
  },
  "language_info": {
   "codemirror_mode": {
    "name": "ipython",
    "version": 3
   },
   "file_extension": ".py",
   "mimetype": "text/x-python",
   "name": "python",
   "nbconvert_exporter": "python",
   "pygments_lexer": "ipython3",
   "version": "3.7.3"
  }
 },
 "nbformat": 4,
 "nbformat_minor": 2
}
